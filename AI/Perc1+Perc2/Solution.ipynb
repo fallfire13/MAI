{
 "cells": [
  {
   "cell_type": "markdown",
   "id": "1fb28900",
   "metadata": {},
   "source": [
    "## Лабораторная работа по курсу \"Искусственный интеллект\"\n",
    "## Многослойный персептрон(tensorflow)\n",
    "| Студент | Аксенов |\n",
    "|---------|--------|\n",
    "| Группа  | 6      |\n"
   ]
  },
  {
   "cell_type": "code",
   "execution_count": 13,
   "id": "c738348b",
   "metadata": {},
   "outputs": [],
   "source": [
    "import sys  \n",
    "from MyFramework import * \n",
    "import numpy as np\n",
    "import tensorflow as tf\n",
    "import matplotlib.pyplot as plt\n",
    "from sklearn.metrics import confusion_matrix\n"
   ]
  },
  {
   "cell_type": "markdown",
   "id": "653c1150",
   "metadata": {},
   "source": [
    "#### MNIST"
   ]
  },
  {
   "cell_type": "code",
   "execution_count": 14,
   "id": "ef5bfc63",
   "metadata": {},
   "outputs": [],
   "source": [
    "def change_label(x):\n",
    "    \n",
    "    back = np.zeros(10)\n",
    "    back[x] = 1\n",
    "    return back\n",
    "\n",
    "def accuracy(lbl, pred):\n",
    "    return sum(lbl == pred)/len(lbl)\n",
    "    "
   ]
  },
  {
   "cell_type": "code",
   "execution_count": 15,
   "id": "1326ab60",
   "metadata": {},
   "outputs": [],
   "source": [
    "mnist = tf.keras.datasets.mnist\n",
    "\n",
    "(x_train, y_train), (x_test, y_test) = mnist.load_data()\n",
    "x_train, x_test = x_train.reshape((60000, 28*28))/255, x_test.reshape((10000, 28*28))/255\n",
    "y_train, y_test = np.array([change_label(i) for i in y_train]), np.array([change_label(i) for i in y_test])"
   ]
  },
  {
   "cell_type": "markdown",
   "id": "67fb7b19",
   "metadata": {},
   "source": [
    "##### Однослойный перцептрон"
   ]
  },
  {
   "cell_type": "code",
   "execution_count": 27,
   "id": "0988ee42",
   "metadata": {},
   "outputs": [
    {
     "data": {
      "text/plain": [
       "<keras.callbacks.History at 0x537adf70>"
      ]
     },
     "execution_count": 27,
     "metadata": {},
     "output_type": "execute_result"
    }
   ],
   "source": [
    "model = tf.keras.Sequential()\n",
    "model.add(tf.keras.layers.Dense(10,activation='softmax'))\n",
    "model.compile(optimizer='adam',\n",
    "              loss='categorical_crossentropy',\n",
    "              metrics=['accuracy'])\n",
    "\n",
    "model.fit(x_train, y_train, epochs=3, batch_size=None, verbose=0)"
   ]
  },
  {
   "cell_type": "code",
   "execution_count": 31,
   "id": "0ad39b5c",
   "metadata": {},
   "outputs": [
    {
     "name": "stdout",
     "output_type": "stream",
     "text": [
      "Доля верный ответов на обучающей выборки =  0.9251833333333334\n"
     ]
    }
   ],
   "source": [
    "print('Доля верный ответов на обучающей выборки = ',accuracy(np.argmax(y_train,1),np.argmax(model.predict(x_train),1)))"
   ]
  },
  {
   "cell_type": "code",
   "execution_count": 33,
   "id": "c91afbed",
   "metadata": {},
   "outputs": [
    {
     "name": "stdout",
     "output_type": "stream",
     "text": [
      "Доля верный ответов на тестовой выборки =  0.9222\n"
     ]
    }
   ],
   "source": [
    "print('Доля верный ответов на тестовой выборки = ',accuracy(np.argmax(y_test,1),np.argmax(model.predict(x_test),1)))"
   ]
  },
  {
   "cell_type": "code",
   "execution_count": 34,
   "id": "c7950be8",
   "metadata": {},
   "outputs": [
    {
     "data": {
      "text/plain": [
       "array([[5773,    1,    7,   10,   10,   30,   34,    7,   50,    1],\n",
       "       [   1, 6564,   27,   28,    8,   30,    5,   12,   60,    7],\n",
       "       [  46,   70, 5314,   91,   80,   37,   59,   87,  162,   12],\n",
       "       [  31,   29,  114, 5482,    9,  221,   24,   54,  125,   42],\n",
       "       [  20,   31,   26,    6, 5526,    4,   52,   17,   36,  124],\n",
       "       [  66,   32,   25,  162,   63, 4797,   78,   16,  145,   37],\n",
       "       [  44,   18,   27,    0,   37,   79, 5671,    2,   40,    0],\n",
       "       [  23,   37,   69,   27,   53,    9,    2, 5891,   16,  138],\n",
       "       [  36,  117,   44,  111,   30,  148,   38,   21, 5254,   52],\n",
       "       [  32,   31,   16,   93,  216,   46,    3,  221,   52, 5239]],\n",
       "      dtype=int64)"
      ]
     },
     "execution_count": 34,
     "metadata": {},
     "output_type": "execute_result"
    }
   ],
   "source": [
    "# На обучающей выборке\n",
    "confusion_matrix(np.argmax(y_train,1),np.argmax(model.predict(x_train),1))"
   ]
  },
  {
   "cell_type": "code",
   "execution_count": 35,
   "id": "02b6f478",
   "metadata": {},
   "outputs": [
    {
     "data": {
      "text/plain": [
       "array([[ 966,    0,    1,    1,    0,    4,    5,    2,    1,    0],\n",
       "       [   0, 1113,    2,    2,    0,    2,    4,    2,   10,    0],\n",
       "       [  10,   10,  912,   17,    9,    4,   13,   10,   43,    4],\n",
       "       [   4,    0,   18,  915,    1,   31,    2,   10,   23,    6],\n",
       "       [   2,    1,    2,    2,  933,    0,   11,    2,   11,   18],\n",
       "       [  12,    2,    2,   31,   11,  777,   15,    5,   32,    5],\n",
       "       [  14,    3,    5,    1,    7,   15,  909,    2,    2,    0],\n",
       "       [   3,    7,   20,    7,    9,    0,    0,  954,    5,   23],\n",
       "       [   8,    8,    7,   21,    9,   28,    9,   13,  868,    3],\n",
       "       [  11,    7,    1,   12,   50,    9,    0,   36,    8,  875]],\n",
       "      dtype=int64)"
      ]
     },
     "execution_count": 35,
     "metadata": {},
     "output_type": "execute_result"
    }
   ],
   "source": [
    "# На тестовой выборке\n",
    "confusion_matrix(np.argmax(y_test,1),np.argmax(model.predict(x_test),1))"
   ]
  },
  {
   "cell_type": "markdown",
   "id": "a27cbe1d",
   "metadata": {},
   "source": [
    "###### Выводы \n",
    "- Переобучение не наблюдается, потому что метрика сильно не отличается на обучающей и тестовой выборке \n",
    "- Модель хорошо справилась с задачей "
   ]
  },
  {
   "cell_type": "markdown",
   "id": "af2e5cd3",
   "metadata": {},
   "source": [
    "##### Многослойный перцептрон( С 1 скрытым слоем)"
   ]
  },
  {
   "cell_type": "code",
   "execution_count": 37,
   "id": "8a476646",
   "metadata": {},
   "outputs": [
    {
     "data": {
      "text/plain": [
       "<keras.callbacks.History at 0x27b5c190>"
      ]
     },
     "execution_count": 37,
     "metadata": {},
     "output_type": "execute_result"
    }
   ],
   "source": [
    "model = tf.keras.Sequential()\n",
    "model.add(tf.keras.layers.Dense(128,activation='relu'))\n",
    "model.add(tf.keras.layers.Dense(64,activation='relu'))\n",
    "model.add(tf.keras.layers.Dense(10,activation='softmax'))\n",
    "model.compile(optimizer='adam',\n",
    "              loss='categorical_crossentropy',\n",
    "              metrics=['accuracy'])\n",
    "\n",
    "model.fit(x_train, y_train, epochs=3, batch_size=None, verbose=0)"
   ]
  },
  {
   "cell_type": "code",
   "execution_count": 38,
   "id": "eea1404a",
   "metadata": {},
   "outputs": [
    {
     "name": "stdout",
     "output_type": "stream",
     "text": [
      "Доля верный ответов на обучающей выборки =  0.9813\n"
     ]
    }
   ],
   "source": [
    "print('Доля верный ответов на обучающей выборки = ',accuracy(np.argmax(y_train,1),np.argmax(model.predict(x_train),1)))"
   ]
  },
  {
   "cell_type": "code",
   "execution_count": 39,
   "id": "5b02eb33",
   "metadata": {},
   "outputs": [
    {
     "name": "stdout",
     "output_type": "stream",
     "text": [
      "Доля верный ответов на тестовой выборки =  0.9719\n"
     ]
    }
   ],
   "source": [
    "print('Доля верный ответов на тестовой выборки = ',accuracy(np.argmax(y_test,1),np.argmax(model.predict(x_test),1)))"
   ]
  },
  {
   "cell_type": "code",
   "execution_count": 40,
   "id": "ce561e56",
   "metadata": {},
   "outputs": [
    {
     "data": {
      "text/plain": [
       "array([[5841,    3,   16,    0,    7,    2,   14,    1,   15,   24],\n",
       "       [   1, 6705,    6,    8,    1,    0,    0,    8,   11,    2],\n",
       "       [   4,   10, 5858,   32,    4,    0,    0,   30,    9,   11],\n",
       "       [   3,    2,   25, 5974,    1,   39,    2,   14,   36,   35],\n",
       "       [   1,   11,    6,    0, 5675,    1,    2,    3,    7,  136],\n",
       "       [   7,    1,    4,   23,    1, 5224,   33,    2,   33,   93],\n",
       "       [  13,    9,    3,    0,    8,    6, 5867,    1,   10,    1],\n",
       "       [   1,   16,   13,    8,    4,    0,    0, 6150,    3,   70],\n",
       "       [   4,   18,   17,   18,    3,    5,   13,    4, 5691,   78],\n",
       "       [   5,    8,    4,    5,   12,    2,    1,   12,    7, 5893]],\n",
       "      dtype=int64)"
      ]
     },
     "execution_count": 40,
     "metadata": {},
     "output_type": "execute_result"
    }
   ],
   "source": [
    "# На обучающей выборке\n",
    "confusion_matrix(np.argmax(y_train,1),np.argmax(model.predict(x_train),1))"
   ]
  },
  {
   "cell_type": "code",
   "execution_count": 41,
   "id": "e1161b9e",
   "metadata": {},
   "outputs": [
    {
     "data": {
      "text/plain": [
       "array([[5841,    3,   16,    0,    7,    2,   14,    1,   15,   24],\n",
       "       [   1, 6705,    6,    8,    1,    0,    0,    8,   11,    2],\n",
       "       [   4,   10, 5858,   32,    4,    0,    0,   30,    9,   11],\n",
       "       [   3,    2,   25, 5974,    1,   39,    2,   14,   36,   35],\n",
       "       [   1,   11,    6,    0, 5675,    1,    2,    3,    7,  136],\n",
       "       [   7,    1,    4,   23,    1, 5224,   33,    2,   33,   93],\n",
       "       [  13,    9,    3,    0,    8,    6, 5867,    1,   10,    1],\n",
       "       [   1,   16,   13,    8,    4,    0,    0, 6150,    3,   70],\n",
       "       [   4,   18,   17,   18,    3,    5,   13,    4, 5691,   78],\n",
       "       [   5,    8,    4,    5,   12,    2,    1,   12,    7, 5893]],\n",
       "      dtype=int64)"
      ]
     },
     "execution_count": 41,
     "metadata": {},
     "output_type": "execute_result"
    }
   ],
   "source": [
    "# На обучающей выборке\n",
    "confusion_matrix(np.argmax(y_train,1),np.argmax(model.predict(x_train),1))"
   ]
  },
  {
   "cell_type": "markdown",
   "id": "1f5fefc2",
   "metadata": {},
   "source": [
    "###### Выводы \n",
    "- Переобучение не наблюдается, потому что метрика сильно не отличается на обучающей и тестовой выборке \n",
    "- Модель хорошо справилась с задачей "
   ]
  },
  {
   "cell_type": "markdown",
   "id": "297603fc",
   "metadata": {},
   "source": [
    "#### Dataset FashionMNIST"
   ]
  },
  {
   "cell_type": "code",
   "execution_count": 43,
   "id": "a02af36e",
   "metadata": {},
   "outputs": [],
   "source": [
    "fashion_mnist = tf.keras.datasets.fashion_mnist\n",
    "\n",
    "(x_train, y_train), (x_test, y_test) = fashion_mnist.load_data()\n",
    "x_train, x_test = x_train.reshape((60000, 28*28))/255, x_test.reshape((10000, 28*28))/255\n",
    "y_train, y_test = np.array([change_label(i) for i in y_train]), np.array([change_label(i) for i in y_test])"
   ]
  },
  {
   "cell_type": "code",
   "execution_count": 44,
   "id": "2da4e9e8",
   "metadata": {},
   "outputs": [
    {
     "data": {
      "text/plain": [
       "<keras.callbacks.History at 0x275c12e0>"
      ]
     },
     "execution_count": 44,
     "metadata": {},
     "output_type": "execute_result"
    }
   ],
   "source": [
    "model = tf.keras.Sequential()\n",
    "model.add(tf.keras.layers.Dense(128,activation='relu'))\n",
    "model.add(tf.keras.layers.Dense(64,activation='relu'))\n",
    "model.add(tf.keras.layers.Dense(10,activation='softmax'))\n",
    "model.compile(optimizer='adam',\n",
    "              loss='categorical_crossentropy',\n",
    "              metrics=['accuracy'])\n",
    "\n",
    "model.fit(x_train, y_train, epochs=3, batch_size=None, verbose=0)"
   ]
  },
  {
   "cell_type": "code",
   "execution_count": 45,
   "id": "d1c72df1",
   "metadata": {},
   "outputs": [
    {
     "name": "stdout",
     "output_type": "stream",
     "text": [
      "Доля верный ответов на обучающей выборки =  0.88445\n"
     ]
    }
   ],
   "source": [
    "print('Доля верный ответов на обучающей выборки = ',accuracy(np.argmax(y_train,1),np.argmax(model.predict(x_train),1)))"
   ]
  },
  {
   "cell_type": "code",
   "execution_count": 46,
   "id": "9fcfb8f7",
   "metadata": {},
   "outputs": [
    {
     "name": "stdout",
     "output_type": "stream",
     "text": [
      "Доля верный ответов на тестовой выборки =  0.8655\n"
     ]
    }
   ],
   "source": [
    "print('Доля верный ответов на тестовой выборки = ',accuracy(np.argmax(y_test,1),np.argmax(model.predict(x_test),1)))"
   ]
  },
  {
   "cell_type": "code",
   "execution_count": 47,
   "id": "562a84ff",
   "metadata": {},
   "outputs": [
    {
     "data": {
      "text/plain": [
       "array([[5602,    9,   66,  164,   17,    4,  110,    0,   28,    0],\n",
       "       [  14, 5873,    3,   95,    6,    0,    7,    0,    2,    0],\n",
       "       [ 156,    8, 5177,   79,  478,    1,   86,    0,   15,    0],\n",
       "       [ 178,   33,   29, 5449,  256,    1,   37,    0,   17,    0],\n",
       "       [  12,    9,  723,  151, 4980,    0,  107,    0,   18,    0],\n",
       "       [   0,    0,    1,    1,    0, 5851,    0,  118,    2,   27],\n",
       "       [1499,    6,  855,  158,  637,    2, 2798,    1,   44,    0],\n",
       "       [   0,    0,    0,    0,    0,   83,    0, 5723,    2,  192],\n",
       "       [  47,    1,   21,   18,   31,   21,    4,   15, 5840,    2],\n",
       "       [   1,    0,    0,    0,    0,   66,    0,  158,    1, 5774]],\n",
       "      dtype=int64)"
      ]
     },
     "execution_count": 47,
     "metadata": {},
     "output_type": "execute_result"
    }
   ],
   "source": [
    "# На обучающей выборке\n",
    "confusion_matrix(np.argmax(y_train,1),np.argmax(model.predict(x_train),1))"
   ]
  },
  {
   "cell_type": "code",
   "execution_count": 48,
   "id": "1ed5dea2",
   "metadata": {},
   "outputs": [
    {
     "data": {
      "text/plain": [
       "array([[5602,    9,   66,  164,   17,    4,  110,    0,   28,    0],\n",
       "       [  14, 5873,    3,   95,    6,    0,    7,    0,    2,    0],\n",
       "       [ 156,    8, 5177,   79,  478,    1,   86,    0,   15,    0],\n",
       "       [ 178,   33,   29, 5449,  256,    1,   37,    0,   17,    0],\n",
       "       [  12,    9,  723,  151, 4980,    0,  107,    0,   18,    0],\n",
       "       [   0,    0,    1,    1,    0, 5851,    0,  118,    2,   27],\n",
       "       [1499,    6,  855,  158,  637,    2, 2798,    1,   44,    0],\n",
       "       [   0,    0,    0,    0,    0,   83,    0, 5723,    2,  192],\n",
       "       [  47,    1,   21,   18,   31,   21,    4,   15, 5840,    2],\n",
       "       [   1,    0,    0,    0,    0,   66,    0,  158,    1, 5774]],\n",
       "      dtype=int64)"
      ]
     },
     "execution_count": 48,
     "metadata": {},
     "output_type": "execute_result"
    }
   ],
   "source": [
    "# На обучающей выборке\n",
    "confusion_matrix(np.argmax(y_train,1),np.argmax(model.predict(x_train),1))"
   ]
  },
  {
   "cell_type": "markdown",
   "id": "55108b9d",
   "metadata": {},
   "source": [
    "###### Выводы \n",
    "- Переобучение не наблюдается, потому что метрика сильно не отличается на обучающей и тестовой выборке \n",
    "- Модель хорошо справилась с задачей "
   ]
  },
  {
   "cell_type": "markdown",
   "id": "1cdbe64c",
   "metadata": {},
   "source": [
    "#### Dataset CIFAR-10"
   ]
  },
  {
   "cell_type": "code",
   "execution_count": 61,
   "id": "c02da3a5",
   "metadata": {},
   "outputs": [],
   "source": [
    "cifar10 = tf.keras.datasets.cifar10\n",
    "\n",
    "(x_train, y_train), (x_test, y_test) = cifar10.load_data()\n",
    "x_train, x_test = x_train.reshape((50000, 32*32*3))/255, x_test.reshape((10000, 32*32*3))/255\n",
    "y_train, y_test = np.array([change_label(i) for i in y_train]), np.array([change_label(i) for i in y_test])"
   ]
  },
  {
   "cell_type": "code",
   "execution_count": 62,
   "id": "29092401",
   "metadata": {},
   "outputs": [
    {
     "data": {
      "text/plain": [
       "<keras.callbacks.History at 0x469df8e0>"
      ]
     },
     "execution_count": 62,
     "metadata": {},
     "output_type": "execute_result"
    }
   ],
   "source": [
    "model = tf.keras.Sequential()\n",
    "model.add(tf.keras.layers.Dense(256*10,activation='relu'))\n",
    "model.add(tf.keras.layers.Dense(128*10,activation='relu'))\n",
    "model.add(tf.keras.layers.Dense(10,activation='softmax'))\n",
    "model.compile(optimizer='adam',\n",
    "              loss='categorical_crossentropy',\n",
    "              metrics=['accuracy'])\n",
    "\n",
    "model.fit(x_train, y_train, epochs=3, batch_size=None, verbose=0)"
   ]
  },
  {
   "cell_type": "code",
   "execution_count": 63,
   "id": "0c1d7867",
   "metadata": {},
   "outputs": [
    {
     "name": "stdout",
     "output_type": "stream",
     "text": [
      "Доля верный ответов на обучающей выборки =  0.45332\n"
     ]
    }
   ],
   "source": [
    "print('Доля верный ответов на обучающей выборки = ',accuracy(np.argmax(y_train,1),np.argmax(model.predict(x_train),1)))"
   ]
  },
  {
   "cell_type": "code",
   "execution_count": 64,
   "id": "d0566173",
   "metadata": {},
   "outputs": [
    {
     "name": "stdout",
     "output_type": "stream",
     "text": [
      "Доля верный ответов на тестовой выборки =  0.4505\n"
     ]
    }
   ],
   "source": [
    "print('Доля верный ответов на тестовой выборки = ',accuracy(np.argmax(y_test,1),np.argmax(model.predict(x_test),1)))"
   ]
  },
  {
   "cell_type": "code",
   "execution_count": 65,
   "id": "0473a7a4",
   "metadata": {},
   "outputs": [
    {
     "data": {
      "text/plain": [
       "array([[1939,  243,  680,  186,  304,   61,  102,  139,  957,  389],\n",
       "       [ 143, 2739,   71,  191,  128,   86,   71,  120,  519,  932],\n",
       "       [ 260,  135, 1952,  369,  893,  195,  688,  192,  171,  145],\n",
       "       [  89,  135,  618, 1790,  429,  495,  823,  156,  187,  278],\n",
       "       [ 192,   80,  934,  244, 2194,   99,  685,  265,  167,  140],\n",
       "       [  65,  105,  769, 1248,  440, 1194,  675,  196,  158,  150],\n",
       "       [  36,   88,  485,  426,  759,  138, 2757,   77,  104,  130],\n",
       "       [ 157,  104,  636,  293,  921,  211,  281, 1933,  111,  353],\n",
       "       [ 352,  235,  159,  197,  157,   64,   31,   51, 3341,  413],\n",
       "       [ 175,  780,   73,  212,  127,   58,  120,  144,  484, 2827]],\n",
       "      dtype=int64)"
      ]
     },
     "execution_count": 65,
     "metadata": {},
     "output_type": "execute_result"
    }
   ],
   "source": [
    "# На обучающей выборке\n",
    "confusion_matrix(np.argmax(y_train,1),np.argmax(model.predict(x_train),1))"
   ]
  },
  {
   "cell_type": "code",
   "execution_count": 66,
   "id": "7032a4f3",
   "metadata": {},
   "outputs": [
    {
     "data": {
      "text/plain": [
       "array([[1939,  243,  680,  186,  304,   61,  102,  139,  957,  389],\n",
       "       [ 143, 2739,   71,  191,  128,   86,   71,  120,  519,  932],\n",
       "       [ 260,  135, 1952,  369,  893,  195,  688,  192,  171,  145],\n",
       "       [  89,  135,  618, 1790,  429,  495,  823,  156,  187,  278],\n",
       "       [ 192,   80,  934,  244, 2194,   99,  685,  265,  167,  140],\n",
       "       [  65,  105,  769, 1248,  440, 1194,  675,  196,  158,  150],\n",
       "       [  36,   88,  485,  426,  759,  138, 2757,   77,  104,  130],\n",
       "       [ 157,  104,  636,  293,  921,  211,  281, 1933,  111,  353],\n",
       "       [ 352,  235,  159,  197,  157,   64,   31,   51, 3341,  413],\n",
       "       [ 175,  780,   73,  212,  127,   58,  120,  144,  484, 2827]],\n",
       "      dtype=int64)"
      ]
     },
     "execution_count": 66,
     "metadata": {},
     "output_type": "execute_result"
    }
   ],
   "source": [
    "# На обучающей выборке\n",
    "confusion_matrix(np.argmax(y_train,1),np.argmax(model.predict(x_train),1))"
   ]
  },
  {
   "cell_type": "markdown",
   "id": "16a9b555",
   "metadata": {},
   "source": [
    "###### Выводы \n",
    "- Переобучение не наблюдается, потому что метрика сильно не отличается на обучающей и тестовой выборке \n",
    "- Модель не так хорошо справилась с задачей, как с прошлыми задачами \n"
   ]
  },
  {
   "cell_type": "code",
   "execution_count": null,
   "id": "6f34de90",
   "metadata": {},
   "outputs": [],
   "source": []
  }
 ],
 "metadata": {
  "kernelspec": {
   "display_name": "Python 3",
   "language": "python",
   "name": "python3"
  },
  "language_info": {
   "codemirror_mode": {
    "name": "ipython",
    "version": 3
   },
   "file_extension": ".py",
   "mimetype": "text/x-python",
   "name": "python",
   "nbconvert_exporter": "python",
   "pygments_lexer": "ipython3",
   "version": "3.8.8"
  }
 },
 "nbformat": 4,
 "nbformat_minor": 5
}
