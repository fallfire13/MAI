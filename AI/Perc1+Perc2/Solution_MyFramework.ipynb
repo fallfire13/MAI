{
 "cells": [
  {
   "cell_type": "markdown",
   "id": "02f19dd5",
   "metadata": {},
   "source": [
    "## Лабораторная работа по курсу \"Искусственный интеллект\"\n",
    "## Многослойный персептрон\n",
    "| Студент | Аксенов |\n",
    "|---------|--------|\n",
    "| Группа  | 6      |\n"
   ]
  },
  {
   "cell_type": "code",
   "execution_count": 1,
   "id": "f18f6b80",
   "metadata": {},
   "outputs": [],
   "source": [
    "import sys  \n",
    "from MyFramework import * \n",
    "import numpy as np\n",
    "import tensorflow as tf\n",
    "import matplotlib.pyplot as plt\n",
    "from sklearn.metrics import confusion_matrix\n"
   ]
  },
  {
   "cell_type": "markdown",
   "id": "f615a9a5",
   "metadata": {},
   "source": [
    "### MNIST"
   ]
  },
  {
   "cell_type": "code",
   "execution_count": 2,
   "id": "acc7dc11",
   "metadata": {},
   "outputs": [],
   "source": [
    "def change_label(x):\n",
    "    \n",
    "    back = np.zeros(10)\n",
    "    back[x] = 1\n",
    "    return back\n",
    "\n",
    "def accuracy(lbl, pred):\n",
    "    return sum(lbl == pred)/len(lbl)\n",
    "    "
   ]
  },
  {
   "cell_type": "code",
   "execution_count": 3,
   "id": "7132a595",
   "metadata": {},
   "outputs": [],
   "source": [
    "mnist = tf.keras.datasets.mnist\n",
    "\n",
    "(x_train, y_train), (x_test, y_test) = mnist.load_data()\n",
    "x_train, x_test = x_train.reshape((60000, 28*28))/255, x_test.reshape((10000, 28*28))/255\n",
    "y_train, y_test = np.array([change_label(i) for i in y_train]), np.array([change_label(i) for i in y_test])"
   ]
  },
  {
   "cell_type": "markdown",
   "id": "9ca0a06b",
   "metadata": {},
   "source": [
    "##### Однослойный перцептрон"
   ]
  },
  {
   "cell_type": "code",
   "execution_count": 4,
   "id": "613ecd0f",
   "metadata": {},
   "outputs": [
    {
     "name": "stdout",
     "output_type": "stream",
     "text": [
      "Epoch: 1, Time Spent: 27.60s, Accuracy: 26.35%\n",
      "Epoch: 2, Time Spent: 59.95s, Accuracy: 39.99%\n",
      "Epoch: 3, Time Spent: 91.58s, Accuracy: 51.44%\n",
      "Epoch: 4, Time Spent: 121.40s, Accuracy: 60.06%\n",
      "Epoch: 5, Time Spent: 150.19s, Accuracy: 65.96%\n",
      "Epoch: 6, Time Spent: 175.99s, Accuracy: 70.11%\n",
      "Epoch: 7, Time Spent: 203.87s, Accuracy: 73.06%\n",
      "Epoch: 8, Time Spent: 228.16s, Accuracy: 75.53%\n",
      "Epoch: 9, Time Spent: 253.65s, Accuracy: 77.26%\n",
      "Epoch: 10, Time Spent: 279.56s, Accuracy: 78.62%\n",
      "Epoch: 11, Time Spent: 309.43s, Accuracy: 79.63%\n",
      "Epoch: 12, Time Spent: 334.12s, Accuracy: 80.47%\n",
      "Epoch: 13, Time Spent: 357.50s, Accuracy: 81.27%\n",
      "Epoch: 14, Time Spent: 378.26s, Accuracy: 81.73%\n",
      "Epoch: 15, Time Spent: 398.16s, Accuracy: 82.17%\n",
      "Epoch: 16, Time Spent: 419.61s, Accuracy: 82.76%\n",
      "Epoch: 17, Time Spent: 442.62s, Accuracy: 83.12%\n",
      "Epoch: 18, Time Spent: 469.77s, Accuracy: 83.55%\n",
      "Epoch: 19, Time Spent: 494.89s, Accuracy: 83.87%\n",
      "Epoch: 20, Time Spent: 520.11s, Accuracy: 84.15%\n",
      "Epoch: 21, Time Spent: 547.23s, Accuracy: 84.39%\n",
      "Epoch: 22, Time Spent: 574.67s, Accuracy: 84.60%\n",
      "Epoch: 23, Time Spent: 598.57s, Accuracy: 84.82%\n",
      "Epoch: 24, Time Spent: 624.61s, Accuracy: 85.02%\n",
      "Epoch: 25, Time Spent: 648.99s, Accuracy: 85.30%\n",
      "Epoch: 26, Time Spent: 674.84s, Accuracy: 85.43%\n",
      "Epoch: 27, Time Spent: 701.81s, Accuracy: 85.62%\n",
      "Epoch: 28, Time Spent: 728.68s, Accuracy: 85.80%\n",
      "Epoch: 29, Time Spent: 755.03s, Accuracy: 86.00%\n",
      "Epoch: 30, Time Spent: 782.19s, Accuracy: 86.12%\n",
      "Epoch: 31, Time Spent: 808.44s, Accuracy: 86.32%\n",
      "Epoch: 32, Time Spent: 835.85s, Accuracy: 86.45%\n",
      "Epoch: 33, Time Spent: 859.25s, Accuracy: 86.52%\n",
      "Epoch: 34, Time Spent: 883.54s, Accuracy: 86.70%\n",
      "Epoch: 35, Time Spent: 910.11s, Accuracy: 86.85%\n",
      "Epoch: 36, Time Spent: 936.49s, Accuracy: 86.99%\n"
     ]
    }
   ],
   "source": [
    "model = NN(sizes=[28*28, 10],activations=[softmax],epochs=36)\n",
    "model.train(x_train, y_train, x_test, y_test)"
   ]
  },
  {
   "cell_type": "code",
   "execution_count": 5,
   "id": "c523fbe0",
   "metadata": {},
   "outputs": [
    {
     "name": "stdout",
     "output_type": "stream",
     "text": [
      "Доля верный ответов на обучающей выборки =  0.8656\n"
     ]
    }
   ],
   "source": [
    "print('Доля верный ответов на обучающей выборки = ',accuracy(np.argmax(y_train,1),model.predict(x_train.T)))"
   ]
  },
  {
   "cell_type": "code",
   "execution_count": 6,
   "id": "4c53e0f9",
   "metadata": {},
   "outputs": [
    {
     "name": "stdout",
     "output_type": "stream",
     "text": [
      "Доля верный ответов на тестовой выборки =  0.8699\n"
     ]
    }
   ],
   "source": [
    "print('Доля верный ответов на тестовой выборки = ',accuracy(np.argmax(y_test,1),model.predict(x_test.T)))"
   ]
  },
  {
   "cell_type": "code",
   "execution_count": 7,
   "id": "ad5d39d1",
   "metadata": {},
   "outputs": [
    {
     "data": {
      "text/plain": [
       "array([[5571,    0,   38,   24,   16,   80,   76,   16,   86,   16],\n",
       "       [   0, 6459,   53,   25,    9,   34,   10,   29,  110,   13],\n",
       "       [  81,   86, 4965,  129,  138,   28,  144,  139,  191,   57],\n",
       "       [  38,   40,  206, 5079,   19,  288,   59,   97,  191,  114],\n",
       "       [  18,   30,   39,   12, 5083,   22,   89,   25,  102,  422],\n",
       "       [ 124,   83,   57,  270,  108, 4135,  147,   58,  354,   85],\n",
       "       [  64,   41,   90,   14,   85,  105, 5424,    9,   81,    5],\n",
       "       [  55,   63,   88,   44,  120,   14,    8, 5586,   37,  250],\n",
       "       [  53,  152,  102,  251,   49,  287,   77,   39, 4707,  134],\n",
       "       [  48,   39,   53,  116,  340,   51,   10,  255,  110, 4927]],\n",
       "      dtype=int64)"
      ]
     },
     "execution_count": 7,
     "metadata": {},
     "output_type": "execute_result"
    }
   ],
   "source": [
    "# На обучающей выборке\n",
    "confusion_matrix(np.argmax(y_train,1),model.predict(x_train.T))"
   ]
  },
  {
   "cell_type": "code",
   "execution_count": 8,
   "id": "edbdd6b4",
   "metadata": {},
   "outputs": [
    {
     "data": {
      "text/plain": [
       "array([[ 929,    0,    5,    4,    1,   12,   17,    2,    9,    1],\n",
       "       [   0, 1093,    3,    6,    0,    3,    7,    0,   22,    1],\n",
       "       [  21,   13,  844,   33,   16,    2,   18,   26,   44,   15],\n",
       "       [   5,    1,   25,  866,    2,   46,    5,   20,   30,   10],\n",
       "       [   4,    4,    1,    4,  856,    1,   23,    3,   18,   68],\n",
       "       [  13,    8,    8,   46,   23,  687,   27,   17,   51,   12],\n",
       "       [  15,    2,   12,    1,   17,   24,  869,    7,   10,    1],\n",
       "       [   6,   16,   27,    8,   15,    1,    0,  914,    5,   36],\n",
       "       [  11,   13,   16,   37,   13,   35,   19,   13,  798,   19],\n",
       "       [  11,    5,    9,    7,   70,   17,    2,   33,   12,  843]],\n",
       "      dtype=int64)"
      ]
     },
     "execution_count": 8,
     "metadata": {},
     "output_type": "execute_result"
    }
   ],
   "source": [
    "# На тестовой выборке\n",
    "confusion_matrix(np.argmax(y_test,1),model.predict(x_test.T))"
   ]
  },
  {
   "cell_type": "code",
   "execution_count": 9,
   "id": "0258291b",
   "metadata": {},
   "outputs": [
    {
     "name": "stdout",
     "output_type": "stream",
     "text": [
      "Epoch: 1, Time Spent: 24.96s, Accuracy: 89.38%\n",
      "Epoch: 2, Time Spent: 56.89s, Accuracy: 90.62%\n",
      "Epoch: 3, Time Spent: 86.11s, Accuracy: 91.15%\n",
      "Epoch: 4, Time Spent: 114.00s, Accuracy: 91.31%\n",
      "Epoch: 5, Time Spent: 141.24s, Accuracy: 91.50%\n",
      "Epoch: 6, Time Spent: 168.15s, Accuracy: 91.64%\n",
      "Epoch: 7, Time Spent: 191.88s, Accuracy: 91.71%\n",
      "Epoch: 8, Time Spent: 219.33s, Accuracy: 91.69%\n",
      "Epoch: 9, Time Spent: 242.70s, Accuracy: 91.75%\n",
      "Epoch: 10, Time Spent: 269.80s, Accuracy: 91.84%\n",
      "Epoch: 11, Time Spent: 296.21s, Accuracy: 91.86%\n",
      "Epoch: 12, Time Spent: 322.13s, Accuracy: 91.91%\n",
      "Epoch: 13, Time Spent: 349.14s, Accuracy: 91.96%\n",
      "Epoch: 14, Time Spent: 376.21s, Accuracy: 92.04%\n",
      "Epoch: 15, Time Spent: 401.03s, Accuracy: 92.11%\n",
      "Epoch: 1, Time Spent: 26.85s, Accuracy: 77.55%\n",
      "Epoch: 2, Time Spent: 53.75s, Accuracy: 83.87%\n",
      "Epoch: 3, Time Spent: 81.81s, Accuracy: 86.15%\n",
      "Epoch: 4, Time Spent: 108.39s, Accuracy: 87.32%\n",
      "Epoch: 5, Time Spent: 130.70s, Accuracy: 88.15%\n",
      "Epoch: 6, Time Spent: 157.74s, Accuracy: 88.69%\n",
      "Epoch: 7, Time Spent: 181.59s, Accuracy: 89.17%\n",
      "Epoch: 8, Time Spent: 205.69s, Accuracy: 89.51%\n",
      "Epoch: 9, Time Spent: 227.77s, Accuracy: 89.71%\n",
      "Epoch: 10, Time Spent: 252.10s, Accuracy: 89.86%\n",
      "Epoch: 11, Time Spent: 274.12s, Accuracy: 90.02%\n",
      "Epoch: 12, Time Spent: 297.92s, Accuracy: 90.27%\n",
      "Epoch: 13, Time Spent: 318.92s, Accuracy: 90.43%\n",
      "Epoch: 14, Time Spent: 341.83s, Accuracy: 90.59%\n",
      "Epoch: 15, Time Spent: 364.54s, Accuracy: 90.66%\n",
      "Epoch: 1, Time Spent: 23.60s, Accuracy: 22.28%\n",
      "Epoch: 2, Time Spent: 49.03s, Accuracy: 31.42%\n",
      "Epoch: 3, Time Spent: 58.36s, Accuracy: 42.48%\n",
      "Epoch: 4, Time Spent: 65.35s, Accuracy: 52.70%\n",
      "Epoch: 5, Time Spent: 72.40s, Accuracy: 58.77%\n",
      "Epoch: 6, Time Spent: 79.43s, Accuracy: 63.88%\n",
      "Epoch: 7, Time Spent: 86.51s, Accuracy: 67.65%\n",
      "Epoch: 8, Time Spent: 93.66s, Accuracy: 70.79%\n",
      "Epoch: 9, Time Spent: 100.60s, Accuracy: 73.84%\n",
      "Epoch: 10, Time Spent: 107.38s, Accuracy: 75.90%\n",
      "Epoch: 11, Time Spent: 114.11s, Accuracy: 77.54%\n",
      "Epoch: 12, Time Spent: 120.92s, Accuracy: 78.95%\n",
      "Epoch: 13, Time Spent: 127.67s, Accuracy: 80.03%\n",
      "Epoch: 14, Time Spent: 134.39s, Accuracy: 80.92%\n",
      "Epoch: 15, Time Spent: 141.18s, Accuracy: 81.63%\n",
      "Epoch: 1, Time Spent: 6.73s, Accuracy: 17.50%\n",
      "Epoch: 2, Time Spent: 13.48s, Accuracy: 19.84%\n",
      "Epoch: 3, Time Spent: 20.24s, Accuracy: 22.02%\n",
      "Epoch: 4, Time Spent: 27.02s, Accuracy: 24.03%\n",
      "Epoch: 5, Time Spent: 33.76s, Accuracy: 26.07%\n",
      "Epoch: 6, Time Spent: 40.54s, Accuracy: 27.65%\n",
      "Epoch: 7, Time Spent: 51.71s, Accuracy: 29.26%\n",
      "Epoch: 8, Time Spent: 68.53s, Accuracy: 30.76%\n",
      "Epoch: 9, Time Spent: 85.16s, Accuracy: 31.99%\n",
      "Epoch: 10, Time Spent: 102.67s, Accuracy: 33.37%\n",
      "Epoch: 11, Time Spent: 120.75s, Accuracy: 34.54%\n",
      "Epoch: 12, Time Spent: 140.67s, Accuracy: 35.82%\n",
      "Epoch: 13, Time Spent: 164.09s, Accuracy: 36.92%\n",
      "Epoch: 14, Time Spent: 183.79s, Accuracy: 38.00%\n",
      "Epoch: 15, Time Spent: 205.57s, Accuracy: 39.04%\n",
      "Epoch: 1, Time Spent: 20.13s, Accuracy: 13.70%\n",
      "Epoch: 2, Time Spent: 40.80s, Accuracy: 13.92%\n",
      "Epoch: 3, Time Spent: 63.81s, Accuracy: 14.10%\n",
      "Epoch: 4, Time Spent: 85.90s, Accuracy: 14.24%\n",
      "Epoch: 5, Time Spent: 109.64s, Accuracy: 14.38%\n",
      "Epoch: 6, Time Spent: 128.30s, Accuracy: 14.50%\n",
      "Epoch: 7, Time Spent: 152.51s, Accuracy: 14.57%\n",
      "Epoch: 8, Time Spent: 174.97s, Accuracy: 14.72%\n",
      "Epoch: 9, Time Spent: 199.36s, Accuracy: 14.84%\n",
      "Epoch: 10, Time Spent: 222.96s, Accuracy: 14.88%\n",
      "Epoch: 11, Time Spent: 248.21s, Accuracy: 15.01%\n",
      "Epoch: 12, Time Spent: 273.57s, Accuracy: 15.14%\n",
      "Epoch: 13, Time Spent: 298.65s, Accuracy: 15.35%\n",
      "Epoch: 14, Time Spent: 324.15s, Accuracy: 15.37%\n",
      "Epoch: 15, Time Spent: 349.04s, Accuracy: 15.48%\n"
     ]
    }
   ],
   "source": [
    "# Исследование точности от lr\n",
    "lrs = [0.1, 0.01, 0.001, 0.0001, 0.00001]\n",
    "y_acc_train, y_acc_test = [], []\n",
    "\n",
    "for i in lrs:\n",
    "    \n",
    "    model = NN(sizes=[28*28, 10],activations=[softmax],epochs=15, l_rate=i)\n",
    "    model.train(x_train, y_train, x_test, y_test)\n",
    "    \n",
    "    y_acc_train.append(accuracy(np.argmax(y_train,1), model.predict(x_train.T)))\n",
    "    y_acc_test.append(accuracy(np.argmax(y_test,1), model.predict(x_test.T)))\n"
   ]
  },
  {
   "cell_type": "code",
   "execution_count": 10,
   "id": "58100941",
   "metadata": {},
   "outputs": [
    {
     "data": {
      "text/plain": [
       "<matplotlib.legend.Legend at 0x2489b1c0>"
      ]
     },
     "execution_count": 10,
     "metadata": {},
     "output_type": "execute_result"
    },
    {
     "data": {
      "image/png": "[encoded data removed]",
      "text/plain": [
       "<Figure size 432x288 with 1 Axes>"
      ]
     },
     "metadata": {
      "needs_background": "light"
     },
     "output_type": "display_data"
    }
   ],
   "source": [
    "plt.plot(lrs, y_acc_train, label='Значения точности на обучающей выборки')\n",
    "plt.plot(lrs, y_acc_test, label='Значения точности на тестовой выборки')\n",
    "plt.legend()"
   ]
  },
  {
   "cell_type": "markdown",
   "id": "51db0695",
   "metadata": {},
   "source": [
    "##### Многослойный перцептрон( С 1 скрытым слоем)"
   ]
  },
  {
   "cell_type": "code",
   "execution_count": 11,
   "id": "5cea6c95",
   "metadata": {},
   "outputs": [
    {
     "name": "stdout",
     "output_type": "stream",
     "text": [
      "Epoch: 1, Time Spent: 135.07s, Accuracy: 91.17%\n",
      "Epoch: 2, Time Spent: 172.94s, Accuracy: 92.81%\n",
      "Epoch: 3, Time Spent: 211.12s, Accuracy: 93.72%\n",
      "Epoch: 4, Time Spent: 249.33s, Accuracy: 94.58%\n",
      "Epoch: 5, Time Spent: 287.60s, Accuracy: 94.98%\n",
      "Epoch: 6, Time Spent: 325.43s, Accuracy: 95.49%\n",
      "Epoch: 7, Time Spent: 363.44s, Accuracy: 95.77%\n",
      "Epoch: 8, Time Spent: 401.57s, Accuracy: 96.11%\n",
      "Epoch: 9, Time Spent: 439.84s, Accuracy: 96.42%\n",
      "Epoch: 10, Time Spent: 478.13s, Accuracy: 96.58%\n",
      "Epoch: 11, Time Spent: 516.14s, Accuracy: 96.74%\n",
      "Epoch: 12, Time Spent: 554.43s, Accuracy: 96.87%\n",
      "Epoch: 13, Time Spent: 592.50s, Accuracy: 96.96%\n",
      "Epoch: 14, Time Spent: 630.81s, Accuracy: 97.02%\n",
      "Epoch: 15, Time Spent: 668.98s, Accuracy: 97.10%\n",
      "Epoch: 16, Time Spent: 707.28s, Accuracy: 97.14%\n",
      "Epoch: 17, Time Spent: 745.57s, Accuracy: 97.23%\n",
      "Epoch: 18, Time Spent: 783.80s, Accuracy: 97.29%\n",
      "Epoch: 19, Time Spent: 821.93s, Accuracy: 97.29%\n",
      "Epoch: 20, Time Spent: 860.32s, Accuracy: 97.36%\n",
      "Epoch: 21, Time Spent: 898.49s, Accuracy: 97.45%\n",
      "Epoch: 22, Time Spent: 936.94s, Accuracy: 97.42%\n",
      "Epoch: 23, Time Spent: 975.19s, Accuracy: 97.45%\n",
      "Epoch: 24, Time Spent: 1013.53s, Accuracy: 97.48%\n",
      "Epoch: 25, Time Spent: 1051.70s, Accuracy: 97.51%\n",
      "Epoch: 26, Time Spent: 1090.09s, Accuracy: 97.54%\n",
      "Epoch: 27, Time Spent: 1128.44s, Accuracy: 97.55%\n",
      "Epoch: 28, Time Spent: 1167.14s, Accuracy: 97.56%\n",
      "Epoch: 29, Time Spent: 1205.20s, Accuracy: 97.59%\n",
      "Epoch: 30, Time Spent: 1244.44s, Accuracy: 97.59%\n",
      "Epoch: 31, Time Spent: 1282.89s, Accuracy: 97.62%\n",
      "Epoch: 32, Time Spent: 1321.63s, Accuracy: 97.59%\n",
      "Epoch: 33, Time Spent: 1359.70s, Accuracy: 97.57%\n",
      "Epoch: 34, Time Spent: 1397.91s, Accuracy: 97.60%\n",
      "Epoch: 35, Time Spent: 1435.94s, Accuracy: 97.62%\n",
      "Epoch: 36, Time Spent: 1474.32s, Accuracy: 97.60%\n"
     ]
    }
   ],
   "source": [
    "model = NN(sizes=[28*28, 128, 10],activations=[sigmoid, sigmoid, softmax],epochs=36,l_rate=0.1)\n",
    "model.train(x_train, y_train, x_test, y_test)"
   ]
  },
  {
   "cell_type": "code",
   "execution_count": 12,
   "id": "9661e7b2",
   "metadata": {},
   "outputs": [
    {
     "name": "stdout",
     "output_type": "stream",
     "text": [
      "Доля верный ответов на обучающей выборки =  0.9910666666666667\n"
     ]
    }
   ],
   "source": [
    "print('Доля верный ответов на обучающей выборки = ',accuracy(np.argmax(y_train,1),model.predict(x_train.T)))"
   ]
  },
  {
   "cell_type": "code",
   "execution_count": 13,
   "id": "d97b58db",
   "metadata": {},
   "outputs": [
    {
     "name": "stdout",
     "output_type": "stream",
     "text": [
      "Доля верный ответов на тестовой выборки =  0.976\n"
     ]
    }
   ],
   "source": [
    "print('Доля верный ответов на тестовой выборки = ',accuracy(np.argmax(y_test,1),model.predict(x_test.T)))"
   ]
  },
  {
   "cell_type": "code",
   "execution_count": 14,
   "id": "c7594b75",
   "metadata": {},
   "outputs": [
    {
     "name": "stdout",
     "output_type": "stream",
     "text": [
      "Epoch: 1, Time Spent: 144.68s, Accuracy: 91.30%\n",
      "Epoch: 2, Time Spent: 289.32s, Accuracy: 92.78%\n",
      "Epoch: 3, Time Spent: 422.87s, Accuracy: 93.87%\n",
      "Epoch: 4, Time Spent: 563.48s, Accuracy: 94.65%\n",
      "Epoch: 5, Time Spent: 709.00s, Accuracy: 95.15%\n",
      "Epoch: 1, Time Spent: 37.92s, Accuracy: 91.10%\n",
      "Epoch: 2, Time Spent: 75.92s, Accuracy: 92.83%\n",
      "Epoch: 3, Time Spent: 113.71s, Accuracy: 93.75%\n",
      "Epoch: 4, Time Spent: 151.59s, Accuracy: 94.57%\n",
      "Epoch: 5, Time Spent: 189.72s, Accuracy: 95.03%\n",
      "Epoch: 1, Time Spent: 23.88s, Accuracy: 90.96%\n",
      "Epoch: 2, Time Spent: 47.88s, Accuracy: 92.56%\n",
      "Epoch: 3, Time Spent: 71.95s, Accuracy: 93.64%\n",
      "Epoch: 4, Time Spent: 96.07s, Accuracy: 94.12%\n",
      "Epoch: 5, Time Spent: 120.06s, Accuracy: 94.64%\n",
      "Epoch: 1, Time Spent: 17.51s, Accuracy: 90.72%\n",
      "Epoch: 2, Time Spent: 35.20s, Accuracy: 92.42%\n",
      "Epoch: 3, Time Spent: 52.67s, Accuracy: 93.29%\n",
      "Epoch: 4, Time Spent: 70.15s, Accuracy: 93.77%\n",
      "Epoch: 5, Time Spent: 87.71s, Accuracy: 94.12%\n"
     ]
    }
   ],
   "source": [
    "# Исследование точности от кол-ва нейронов\n",
    "nns = [128*2, 128, 64,32]\n",
    "y_acc_train, y_acc_test = [], []\n",
    "\n",
    "for i in nns:\n",
    "    \n",
    "    model = NN(sizes=[28*28, i, 10],activations=[sigmoid, sigmoid, softmax],epochs=5, l_rate=0.1)\n",
    "    model.train(x_train, y_train, x_test, y_test)\n",
    "    \n",
    "    y_acc_train.append(accuracy(np.argmax(y_train,1), model.predict(x_train.T)))\n",
    "    y_acc_test.append(accuracy(np.argmax(y_test,1), model.predict(x_test.T)))\n"
   ]
  },
  {
   "cell_type": "code",
   "execution_count": 15,
   "id": "8cb002bb",
   "metadata": {},
   "outputs": [
    {
     "data": {
      "text/plain": [
       "<matplotlib.legend.Legend at 0x57ea6a0>"
      ]
     },
     "execution_count": 15,
     "metadata": {},
     "output_type": "execute_result"
    },
    {
     "data": {
      "image/png": "[encoded data removed]",
      "text/plain": [
       "<Figure size 432x288 with 1 Axes>"
      ]
     },
     "metadata": {
      "needs_background": "light"
     },
     "output_type": "display_data"
    }
   ],
   "source": [
    "plt.plot(nns, y_acc_train, label='Значения точности на обучающей выборки')\n",
    "plt.plot(nns, y_acc_test, label='Значения точности на тестовой выборки')\n",
    "plt.legend()"
   ]
  },
  {
   "cell_type": "markdown",
   "id": "0f978a97",
   "metadata": {},
   "source": [
    "###### Выводы \n",
    "- Модель с одним слоем неплохо справилась с задачей \n",
    "- Модель с тремя слоями неплохо справилась с задачей \n",
    "- Касательно выборка скорости обучения, значение 0.01 является оптимальным \n",
    "- Касательно выбора количества нейронов на скрытом слое видна тенденция, что чем больше нейронов, тем выше точность "
   ]
  },
  {
   "cell_type": "markdown",
   "id": "4f2f51a1",
   "metadata": {},
   "source": [
    "#### Dataset FashionMNIST"
   ]
  },
  {
   "cell_type": "code",
   "execution_count": 16,
   "id": "87b392a8",
   "metadata": {},
   "outputs": [],
   "source": [
    "fashion_mnist = tf.keras.datasets.fashion_mnist\n",
    "\n",
    "(x_train, y_train), (x_test, y_test) = fashion_mnist.load_data()\n",
    "x_train, x_test = x_train.reshape((60000, 28*28))/255, x_test.reshape((10000, 28*28))/255\n",
    "y_train, y_test = np.array([change_label(i) for i in y_train]), np.array([change_label(i) for i in y_test])"
   ]
  },
  {
   "cell_type": "code",
   "execution_count": 17,
   "id": "a9ab8860",
   "metadata": {},
   "outputs": [
    {
     "name": "stdout",
     "output_type": "stream",
     "text": [
      "Epoch: 1, Time Spent: 1720.58s, Accuracy: 71.20%\n",
      "Epoch: 2, Time Spent: 2945.70s, Accuracy: 72.82%\n",
      "Epoch: 3, Time Spent: 4170.58s, Accuracy: 73.47%\n",
      "Epoch: 4, Time Spent: 5395.57s, Accuracy: 73.82%\n",
      "Epoch: 5, Time Spent: 6620.47s, Accuracy: 74.16%\n"
     ]
    }
   ],
   "source": [
    "model = NN(sizes=[28*28, 28*28*3, 10],activations=[sigmoid, sigmoid, softmax],epochs=5)\n",
    "model.train(x_train, y_train, x_test, y_test)"
   ]
  },
  {
   "cell_type": "code",
   "execution_count": 18,
   "id": "8b792d54",
   "metadata": {},
   "outputs": [
    {
     "name": "stdout",
     "output_type": "stream",
     "text": [
      "Доля верный ответов на обучающей выборки =  0.753\n"
     ]
    }
   ],
   "source": [
    "print('Доля верный ответов на обучающей выборки = ',accuracy(np.argmax(y_train,1),model.predict(x_train.T)))"
   ]
  },
  {
   "cell_type": "code",
   "execution_count": 19,
   "id": "1a7aec2c",
   "metadata": {},
   "outputs": [
    {
     "name": "stdout",
     "output_type": "stream",
     "text": [
      "Доля верный ответов на тестовой выборки =  0.7416\n"
     ]
    }
   ],
   "source": [
    "print('Доля верный ответов на тестовой выборки = ',accuracy(np.argmax(y_test,1),model.predict(x_test.T)))"
   ]
  },
  {
   "cell_type": "code",
   "execution_count": 20,
   "id": "036dec8c",
   "metadata": {},
   "outputs": [
    {
     "data": {
      "text/plain": [
       "array([[5222,   10,  103,  306,   26,   14,  222,    0,   97,    0],\n",
       "       [  23, 5676,   81,  185,   20,    2,   10,    0,    3,    0],\n",
       "       [  98,    8, 4536,   63,  905,   19,  310,    0,   61,    0],\n",
       "       [ 282,   43,   92, 5238,  241,    5,   80,    0,   19,    0],\n",
       "       [  20,   10,  504,  205, 4887,   10,  318,    0,   46,    0],\n",
       "       [  19,    1,    5,   12,    1, 5525,    6,  363,   68,    0],\n",
       "       [1267,   12,  851,  230,  730,   18, 2737,    4,  151,    0],\n",
       "       [   1,    0,    0,    0,    0,  274,    1, 5701,   23,    0],\n",
       "       [  36,    2,   40,   81,   34,   50,   68,   31, 5658,    0],\n",
       "       [ 131,    4,   98,   33,   60, 2344,  148, 2821,  361,    0]],\n",
       "      dtype=int64)"
      ]
     },
     "execution_count": 20,
     "metadata": {},
     "output_type": "execute_result"
    }
   ],
   "source": [
    "# На обучающей выборке\n",
    "confusion_matrix(np.argmax(y_train,1),model.predict(x_train.T))"
   ]
  },
  {
   "cell_type": "code",
   "execution_count": 21,
   "id": "cf8cae6a",
   "metadata": {},
   "outputs": [
    {
     "data": {
      "text/plain": [
       "array([[854,   2,  18,  53,   8,   5,  44,   0,  16,   0],\n",
       "       [  6, 937,  12,  37,   6,   0,   0,   0,   2,   0],\n",
       "       [ 22,   2, 737,  11, 159,   0,  53,   0,  16,   0],\n",
       "       [ 43,   8,  15, 868,  40,   0,  22,   0,   4,   0],\n",
       "       [  1,   2, 110,  45, 782,   1,  51,   0,   8,   0],\n",
       "       [  2,   0,   0,   4,   0, 910,   0,  72,  12,   0],\n",
       "       [206,   0, 151,  47, 133,   3, 424,   0,  36,   0],\n",
       "       [  1,   0,   0,   0,   0,  39,   0, 958,   2,   0],\n",
       "       [  2,   1,   9,  13,   3,  10,  11,   5, 946,   0],\n",
       "       [ 18,   0,  13,   2,   8, 386,  32, 483,  58,   0]], dtype=int64)"
      ]
     },
     "execution_count": 21,
     "metadata": {},
     "output_type": "execute_result"
    }
   ],
   "source": [
    "# На тестовой выборке\n",
    "confusion_matrix(np.argmax(y_test,1),model.predict(x_test.T))"
   ]
  },
  {
   "cell_type": "markdown",
   "id": "6b37beb9",
   "metadata": {},
   "source": [
    "###### Выводы \n",
    "- Переобучение не наблюдается, потому что метрика сильно не отличается на обучающей и тестовой выборке \n",
    "- Модель хорошо справилась с задачей "
   ]
  },
  {
   "cell_type": "code",
   "execution_count": null,
   "id": "3a940d7f",
   "metadata": {},
   "outputs": [],
   "source": []
  },
  {
   "cell_type": "code",
   "execution_count": null,
   "id": "ebd07caa",
   "metadata": {},
   "outputs": [],
   "source": []
  }
 ],
 "metadata": {
  "kernelspec": {
   "display_name": "Python 3",
   "language": "python",
   "name": "python3"
  },
  "language_info": {
   "codemirror_mode": {
    "name": "ipython",
    "version": 3
   },
   "file_extension": ".py",
   "mimetype": "text/x-python",
   "name": "python",
   "nbconvert_exporter": "python",
   "pygments_lexer": "ipython3",
   "version": "3.8.8"
  }
 },
 "nbformat": 4,
 "nbformat_minor": 5
}
