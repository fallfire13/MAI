{
 "cells": [
  {
   "cell_type": "code",
   "execution_count": 1,
   "id": "ded8d3fa",
   "metadata": {},
   "outputs": [],
   "source": [
    "import warnings\n",
    "warnings.filterwarnings(\"ignore\")\n",
    "import pandas as pd \n",
    "from sklearn.model_selection import train_test_split\n",
    "import numpy as np\n",
    "from sklearn.metrics import accuracy_score, recall_score, precision_score,roc_auc_score, confusion_matrix\n",
    "from sklearn.linear_model import LogisticRegression\n",
    "from sklearn.svm import SVC\n",
    "from sklearn.neighbors import KNeighborsClassifier\n",
    "import math\n",
    "from sklearn.naive_bayes import BernoulliNB \n",
    "from sklearn.base import BaseEstimator,ClassifierMixin\n",
    "from sklearn.model_selection import GridSearchCV\n",
    "import pickle \n",
    "import numpy as np\n",
    "from collections import Counter\n",
    "from sklearn.tree import DecisionTreeClassifier\n",
    "from sklearn.ensemble import RandomForestClassifier\n",
    "from sklearn.ensemble import GradientBoostingClassifier\n"
   ]
  },
  {
   "cell_type": "code",
   "execution_count": 2,
   "id": "201e9128",
   "metadata": {},
   "outputs": [],
   "source": [
    "def entropy(y):\n",
    "    hist = np.bincount(y)\n",
    "    ps = hist / len(y)\n",
    "    return -np.sum([p * np.log2(p) for p in ps if p > 0])\n",
    "\n",
    "def bootstrap_sample(X, y):\n",
    "    n_samples = X.shape[0]\n",
    "    idxs = np.random.choice(n_samples, n_samples, replace=True)\n",
    "    return X[idxs], y[idxs]\n",
    "\n",
    "def most_common_label(y):\n",
    "    counter = Counter(y)\n",
    "    most_common = counter.most_common(1)[0][0]\n",
    "    return most_common\n",
    "\n",
    "def metrics(model):\n",
    "    \n",
    "    print(f'Доля верных ответов на обучающей выборки = {accuracy_score(y_train, model.predict(X_train))}')\n",
    "    print(f'Доля верных ответов на тестовой выборки = {accuracy_score(y_test, model.predict(X_test))}')\n",
    "    \n",
    "    print(f'Recall_score на обучающей выборки = {recall_score(y_train, model.predict(X_train))}')\n",
    "    print(f'Recall_score на тестовой выборки = {recall_score(y_test, model.predict(X_test))}')\n",
    "    \n",
    "    print(f'Precision_score на обучающей выборки = {precision_score(y_train, model.predict(X_train))}')\n",
    "    print(f'Precision_score на тестовой выборки = {precision_score(y_test, model.predict(X_test))}')\n",
    "    \n",
    "    print(f'Roc_auc_score на обучающей выборки = {roc_auc_score(y_train, model.predict(X_train))}')\n",
    "    print(f'Roc_auc_score на тестовой выборки = {roc_auc_score(y_test, model.predict(X_test))}')\n",
    "    \n",
    "    print(f'Confusion_matrix на обучающей выборки = \\n{confusion_matrix(y_train, model.predict(X_train))}')\n",
    "    print(f'Confusion_matrix на тестовой выборки = \\n{confusion_matrix(y_test, model.predict(X_test))}')"
   ]
  },
  {
   "cell_type": "code",
   "execution_count": 3,
   "id": "fb983035",
   "metadata": {},
   "outputs": [],
   "source": [
    "dataset = pd.read_csv('remastered_dataset.csv')"
   ]
  },
  {
   "cell_type": "code",
   "execution_count": 4,
   "id": "211287e7",
   "metadata": {},
   "outputs": [],
   "source": [
    "X_train, X_test, y_train, y_test = train_test_split(np.array(dataset.drop(['Survived'],axis=1)), np.array(dataset['Survived']), test_size=0.2, random_state=42)"
   ]
  },
  {
   "cell_type": "markdown",
   "id": "d794f4fb",
   "metadata": {},
   "source": [
    "### Дерево решений \n"
   ]
  },
  {
   "cell_type": "code",
   "execution_count": 5,
   "id": "8bac16e4",
   "metadata": {},
   "outputs": [],
   "source": [
    "class Node:\n",
    "\n",
    "    def __init__(self, feature=None, threshold=None, left=None, right=None, *, value=None):\n",
    "        self.feature = feature\n",
    "        self.threshold = threshold\n",
    "        self.left = left\n",
    "        self.right = right\n",
    "        self.value = value\n",
    "\n",
    "    def is_leaf_node(self):\n",
    "        return self.value is not None\n",
    "    \n",
    "class DecisionTree:\n",
    "\n",
    "    def __init__(self, min_samples_split=2, max_depth=50, n_feats=None):\n",
    "        self.min_samples_split = min_samples_split\n",
    "        self.max_depth = max_depth\n",
    "        self.n_feats = n_feats\n",
    "        self.root = None\n",
    "\n",
    "    def fit(self, X, y):\n",
    "        self.n_feats = X.shape[1] if not self.n_feats else min(self.n_feats, X.shape[1])\n",
    "        self.root = self._grow_tree(X, y)\n",
    "\n",
    "    def predict(self, X):\n",
    "        return np.array([self._traverse_tree(x, self.root) for x in X])\n",
    "\n",
    "    def _grow_tree(self, X, y, depth=0):\n",
    "        n_samples, n_features = X.shape\n",
    "        n_labels = len(np.unique(y))\n",
    "\n",
    "        # stopping criteria\n",
    "        if (depth >= self.max_depth\n",
    "                or n_labels == 1\n",
    "                or n_samples < self.min_samples_split):\n",
    "            leaf_value = self._most_common_label(y)\n",
    "            return Node(value=leaf_value)\n",
    "\n",
    "        feat_idxs = np.random.choice(n_features, self.n_feats, replace=False)\n",
    "\n",
    "        # greedily select the best split according to information gain\n",
    "        best_feat, best_thresh = self._best_criteria(X, y, feat_idxs)\n",
    "        \n",
    "        # grow the children that result from the split\n",
    "        left_idxs, right_idxs = self._split(X[:, best_feat], best_thresh)\n",
    "        left = self._grow_tree(X[left_idxs, :], y[left_idxs], depth+1)\n",
    "        right = self._grow_tree(X[right_idxs, :], y[right_idxs], depth+1)\n",
    "        return Node(best_feat, best_thresh, left, right)\n",
    "\n",
    "    def _best_criteria(self, X, y, feat_idxs):\n",
    "        best_gain = -1\n",
    "        split_idx, split_thresh = None, None\n",
    "        for feat_idx in feat_idxs:\n",
    "            X_column = X[:, feat_idx]\n",
    "            thresholds = np.unique(X_column)\n",
    "            for threshold in thresholds:\n",
    "                gain = self._information_gain(y, X_column, threshold)\n",
    "\n",
    "                if gain > best_gain:\n",
    "                    best_gain = gain\n",
    "                    split_idx = feat_idx\n",
    "                    split_thresh = threshold\n",
    "\n",
    "        return split_idx, split_thresh\n",
    "\n",
    "    def _information_gain(self, y, X_column, split_thresh):\n",
    "        # parent loss\n",
    "        parent_entropy = entropy(y)\n",
    "\n",
    "        # generate split\n",
    "        left_idxs, right_idxs = self._split(X_column, split_thresh)\n",
    "\n",
    "        if len(left_idxs) == 0 or len(right_idxs) == 0:\n",
    "            return 0\n",
    "\n",
    "        # compute the weighted avg. of the loss for the children\n",
    "        n = len(y)\n",
    "        n_l, n_r = len(left_idxs), len(right_idxs)\n",
    "        e_l, e_r = entropy(y[left_idxs]), entropy(y[right_idxs])\n",
    "        child_entropy = (n_l / n) * e_l + (n_r / n) * e_r\n",
    "\n",
    "        # information gain is difference in loss before vs. after split\n",
    "        ig = parent_entropy - child_entropy\n",
    "        return ig\n",
    "\n",
    "    def _split(self, X_column, split_thresh):\n",
    "        left_idxs = np.argwhere(X_column <= split_thresh).flatten()\n",
    "        right_idxs = np.argwhere(X_column > split_thresh).flatten()\n",
    "        return left_idxs, right_idxs\n",
    "\n",
    "    def _traverse_tree(self, x, node):\n",
    "        if node.is_leaf_node():\n",
    "            return node.value\n",
    "\n",
    "        if x[node.feature] <= node.threshold:\n",
    "            return self._traverse_tree(x, node.left)\n",
    "        return self._traverse_tree(x, node.right)\n",
    "\n",
    "    def _most_common_label(self, y):\n",
    "        if len(y) == 0:\n",
    "            return 1\n",
    "        else:\n",
    "            \n",
    "            counter = Counter(y)\n",
    "            \n",
    "            most_common = counter.most_common(1)[0][0]\n",
    "            return most_common"
   ]
  },
  {
   "cell_type": "code",
   "execution_count": 6,
   "id": "71c5ae9a",
   "metadata": {},
   "outputs": [
    {
     "name": "stdout",
     "output_type": "stream",
     "text": [
      "Доля верных ответов на обучающей выборки = 0.9845505617977528\n",
      "Доля верных ответов на тестовой выборки = 0.776536312849162\n",
      "Recall_score на обучающей выборки = 0.9776119402985075\n",
      "Recall_score на тестовой выборки = 0.7702702702702703\n",
      "Precision_score на обучающей выборки = 0.9812734082397003\n",
      "Precision_score на тестовой выборки = 0.7125\n",
      "Roc_auc_score на обучающей выборки = 0.9831753395186231\n",
      "Roc_auc_score на тестовой выборки = 0.7756113256113256\n",
      "Confusion_matrix на обучающей выборки = \n",
      "[[439   5]\n",
      " [  6 262]]\n",
      "Confusion_matrix на тестовой выборки = \n",
      "[[82 23]\n",
      " [17 57]]\n"
     ]
    }
   ],
   "source": [
    "model = DecisionTree()\n",
    "model.fit(X_train, y_train)\n",
    "metrics(model)"
   ]
  },
  {
   "cell_type": "code",
   "execution_count": 7,
   "id": "e2cfa8ff",
   "metadata": {},
   "outputs": [
    {
     "name": "stdout",
     "output_type": "stream",
     "text": [
      "Доля верных ответов на обучающей выборки = 0.9845505617977528\n",
      "Доля верных ответов на тестовой выборки = 0.7932960893854749\n",
      "Recall_score на обучающей выборки = 0.9626865671641791\n",
      "Recall_score на тестовой выборки = 0.7432432432432432\n",
      "Precision_score на обучающей выборки = 0.9961389961389961\n",
      "Precision_score на тестовой выборки = 0.7534246575342466\n",
      "Roc_auc_score на обучающей выборки = 0.9802171574559635\n",
      "Roc_auc_score на тестовой выборки = 0.7859073359073359\n",
      "Confusion_matrix на обучающей выборки = \n",
      "[[443   1]\n",
      " [ 10 258]]\n",
      "Confusion_matrix на тестовой выборки = \n",
      "[[87 18]\n",
      " [19 55]]\n"
     ]
    }
   ],
   "source": [
    "model = DecisionTreeClassifier()\n",
    "model.fit(X_train,y_train)\n",
    "metrics(model)"
   ]
  },
  {
   "cell_type": "markdown",
   "id": "58717a5a",
   "metadata": {},
   "source": [
    "### Random forest "
   ]
  },
  {
   "cell_type": "code",
   "execution_count": 8,
   "id": "1f0bf6cf",
   "metadata": {},
   "outputs": [],
   "source": [
    "class RandomForest:\n",
    "    \n",
    "    def __init__(self, n_trees=10, min_samples_split=2,\n",
    "                 max_depth=100, n_feats=None):\n",
    "        self.n_trees = n_trees\n",
    "        self.min_samples_split = min_samples_split\n",
    "        self.max_depth = max_depth\n",
    "        self.n_feats = n_feats\n",
    "        self.trees = []\n",
    "\n",
    "    def fit(self, X, y):\n",
    "        self.trees = []\n",
    "        for _ in range(self.n_trees):\n",
    "            tree = DecisionTree(min_samples_split=self.min_samples_split,\n",
    "                max_depth=self.max_depth, n_feats=self.n_feats)\n",
    "            X_samp, y_samp = bootstrap_sample(X, y)\n",
    "            tree.fit(X_samp, y_samp)\n",
    "            self.trees.append(tree)\n",
    "\n",
    "    def predict(self, X):\n",
    "        tree_preds = np.array([tree.predict(X) for tree in self.trees])\n",
    "        tree_preds = np.swapaxes(tree_preds, 0, 1)\n",
    "        y_pred = [most_common_label(tree_pred) for tree_pred in tree_preds]\n",
    "        return np.array(y_pred)"
   ]
  },
  {
   "cell_type": "code",
   "execution_count": 9,
   "id": "118a5a1d",
   "metadata": {},
   "outputs": [
    {
     "name": "stdout",
     "output_type": "stream",
     "text": [
      "Доля верных ответов на обучающей выборки = 0.9705056179775281\n",
      "Доля верных ответов на тестовой выборки = 0.770949720670391\n",
      "Recall_score на обучающей выборки = 0.9477611940298507\n",
      "Recall_score на тестовой выборки = 0.6756756756756757\n",
      "Precision_score на обучающей выборки = 0.9731800766283525\n",
      "Precision_score на тестовой выборки = 0.746268656716418\n",
      "Roc_auc_score на обучающей выборки = 0.9659977141320426\n",
      "Roc_auc_score на тестовой выборки = 0.7568854568854568\n",
      "Confusion_matrix на обучающей выборки = \n",
      "[[437   7]\n",
      " [ 14 254]]\n",
      "Confusion_matrix на тестовой выборки = \n",
      "[[88 17]\n",
      " [24 50]]\n"
     ]
    }
   ],
   "source": [
    "model = RandomForest()\n",
    "model.fit(X_train, y_train)\n",
    "metrics(model)"
   ]
  },
  {
   "cell_type": "code",
   "execution_count": 10,
   "id": "e98ef8e2",
   "metadata": {},
   "outputs": [
    {
     "name": "stdout",
     "output_type": "stream",
     "text": [
      "Доля верных ответов на обучающей выборки = 0.9845505617977528\n",
      "Доля верных ответов на тестовой выборки = 0.8100558659217877\n",
      "Recall_score на обучающей выборки = 0.9664179104477612\n",
      "Recall_score на тестовой выборки = 0.7567567567567568\n",
      "Precision_score на обучающей выборки = 0.9923371647509579\n",
      "Precision_score на тестовой выборки = 0.7777777777777778\n",
      "Roc_auc_score на обучающей выборки = 0.9809567029716284\n",
      "Roc_auc_score на тестовой выборки = 0.8021879021879021\n",
      "Confusion_matrix на обучающей выборки = \n",
      "[[442   2]\n",
      " [  9 259]]\n",
      "Confusion_matrix на тестовой выборки = \n",
      "[[89 16]\n",
      " [18 56]]\n"
     ]
    }
   ],
   "source": [
    "model = RandomForestClassifier()\n",
    "model.fit(X_train, y_train)\n",
    "metrics(model)"
   ]
  },
  {
   "cell_type": "markdown",
   "id": "276d6923",
   "metadata": {},
   "source": [
    "### Gradient boosting"
   ]
  },
  {
   "cell_type": "code",
   "execution_count": 11,
   "id": "26bed132",
   "metadata": {},
   "outputs": [
    {
     "name": "stdout",
     "output_type": "stream",
     "text": [
      "Доля верных ответов на обучающей выборки = 0.9044943820224719\n",
      "Доля верных ответов на тестовой выборки = 0.8156424581005587\n",
      "Recall_score на обучающей выборки = 0.7873134328358209\n",
      "Recall_score на тестовой выборки = 0.7162162162162162\n",
      "Precision_score на обучающей выборки = 0.9504504504504504\n",
      "Precision_score на тестовой выборки = 0.8153846153846154\n",
      "Roc_auc_score на обучающей выборки = 0.8812693290305231\n",
      "Roc_auc_score на тестовой выборки = 0.800965250965251\n",
      "Confusion_matrix на обучающей выборки = \n",
      "[[433  11]\n",
      " [ 57 211]]\n",
      "Confusion_matrix на тестовой выборки = \n",
      "[[93 12]\n",
      " [21 53]]\n"
     ]
    }
   ],
   "source": [
    "model = GradientBoostingClassifier()\n",
    "model.fit(X_train, y_train)\n",
    "metrics(model)"
   ]
  },
  {
   "cell_type": "markdown",
   "id": "80b5675b",
   "metadata": {},
   "source": [
    "### Мягкое и жесткое голосование "
   ]
  },
  {
   "cell_type": "code",
   "execution_count": 12,
   "id": "d2b584f3",
   "metadata": {},
   "outputs": [],
   "source": [
    "def soft(models,X):\n",
    "    predicts = [i.predict_proba(X)[:,1] for i in models]\n",
    "    \n",
    "    \n",
    "    back = np.zeros(predicts[0].shape)\n",
    "    for i in range(len(predicts)):\n",
    "        back = back + np.array(predicts[i])\n",
    "    back = back / len(predicts)\n",
    "    \n",
    "    \n",
    "    real_back = [1 if back[i]>=0.5 else 0 for i in range(len(back))]\n",
    "    \n",
    "    \n",
    "    return real_back\n",
    "\n",
    "\n",
    "def hard(models,X):\n",
    "    predicts = [i.predict_proba(X)[:,1] for i in models]\n",
    "    \n",
    "    back = np.zeros(predicts[0].shape)\n",
    "    \n",
    "    for i in range(len(predicts)):\n",
    "        back = back + predicts[i]\n",
    "    back = back / len(predicts)\n",
    "    \n",
    "    \n",
    "    for i in range(len(back)):\n",
    "        if back[i]>=0.5:\n",
    "            back[i] = 1\n",
    "        else:\n",
    "            back[i] = 0\n",
    "    \n",
    "    return back"
   ]
  },
  {
   "cell_type": "code",
   "execution_count": 13,
   "id": "306be44f",
   "metadata": {},
   "outputs": [],
   "source": [
    "models = [pickle.load(open(i, 'rb')) for i in ['sklearn_KNN()_best_model.pkl','sklearn_LogitRegression_best_model.pkl'\n",
    "                                    ,'sklearn_NaiveBayesClassifier()_best_model.pkl','sklearn_SVM()_best_model.pkl']]"
   ]
  },
  {
   "cell_type": "code",
   "execution_count": 14,
   "id": "63971a7c",
   "metadata": {},
   "outputs": [
    {
     "data": {
      "text/plain": [
       "0.8069584736251403"
      ]
     },
     "execution_count": 14,
     "metadata": {},
     "output_type": "execute_result"
    }
   ],
   "source": [
    "accuracy_score(soft(models,dataset.drop(['Survived'],axis=1)),dataset['Survived'])"
   ]
  },
  {
   "cell_type": "code",
   "execution_count": 15,
   "id": "fc23afdd",
   "metadata": {},
   "outputs": [
    {
     "data": {
      "text/plain": [
       "0.8069584736251403"
      ]
     },
     "execution_count": 15,
     "metadata": {},
     "output_type": "execute_result"
    }
   ],
   "source": [
    "accuracy_score(hard(models,dataset.drop(['Survived'],axis=1)),dataset['Survived'])"
   ]
  },
  {
   "cell_type": "code",
   "execution_count": null,
   "id": "b6605471",
   "metadata": {},
   "outputs": [],
   "source": []
  }
 ],
 "metadata": {
  "kernelspec": {
   "display_name": "Python 3",
   "language": "python",
   "name": "python3"
  },
  "language_info": {
   "codemirror_mode": {
    "name": "ipython",
    "version": 3
   },
   "file_extension": ".py",
   "mimetype": "text/x-python",
   "name": "python",
   "nbconvert_exporter": "python",
   "pygments_lexer": "ipython3",
   "version": "3.8.8"
  }
 },
 "nbformat": 4,
 "nbformat_minor": 5
}
