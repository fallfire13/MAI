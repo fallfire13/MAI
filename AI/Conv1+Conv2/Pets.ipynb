{
 "cells": [
  {
   "cell_type": "code",
   "execution_count": 1,
   "id": "13064246",
   "metadata": {},
   "outputs": [],
   "source": [
    "import warnings\n",
    "warnings.filterwarnings(\"ignore\")"
   ]
  },
  {
   "cell_type": "code",
   "execution_count": 2,
   "id": "a85646c7",
   "metadata": {},
   "outputs": [
    {
     "name": "stdout",
     "output_type": "stream",
     "text": [
      "Found 2275 files belonging to 2 classes.\n",
      "Found 936 files belonging to 2 classes.\n"
     ]
    }
   ],
   "source": [
    "import tensorflow as tf\n",
    "import os\n",
    "import numpy as np\n",
    "from sklearn.metrics import accuracy_score, confusion_matrix\n",
    "\n",
    "train = tf.keras.utils.image_dataset_from_directory('binar/train', shuffle=False,label_mode='categorical')\n",
    "val = tf.keras.utils.image_dataset_from_directory('binar/val', shuffle= False,label_mode='categorical')"
   ]
  },
  {
   "cell_type": "markdown",
   "id": "a81db258",
   "metadata": {},
   "source": [
    "# Кошки против собак "
   ]
  },
  {
   "cell_type": "markdown",
   "id": "b3650a4a",
   "metadata": {},
   "source": [
    "### VGG16"
   ]
  },
  {
   "cell_type": "code",
   "execution_count": 3,
   "id": "c0d6cd8b",
   "metadata": {},
   "outputs": [],
   "source": [
    "data_augmentation = tf.keras.Sequential([\n",
    "  tf.keras.layers.RandomFlip('horizontal'),\n",
    "  tf.keras.layers.RandomRotation(0.2),\n",
    "])\n",
    "global_average_layer = tf.keras.layers.GlobalAveragePooling2D()"
   ]
  },
  {
   "cell_type": "code",
   "execution_count": 4,
   "id": "f825e156",
   "metadata": {},
   "outputs": [],
   "source": [
    "base_model = tf.keras.applications.VGG16(include_top=False)\n",
    "base_model.trainable = False\n",
    "\n",
    "from tensorflow.keras import layers\n",
    "\n",
    "inputs = layers.Input(shape = ( 256, 256, 3), name='inputLayer')\n",
    "x = base_model(inputs, training = False)\n",
    "x = layers.GlobalAveragePooling2D(name='poolingLayer')(x)\n",
    "x = layers.Dense(2, name='outputLayer')(x)\n",
    "outputs = layers.Activation(activation=\"softmax\", dtype=tf.float32, name='activationLayer')(x)\n",
    "\n",
    "model = tf.keras.Model(inputs, outputs, name = \"FeatureExtractionModel\")"
   ]
  },
  {
   "cell_type": "code",
   "execution_count": 5,
   "id": "e5ca4587",
   "metadata": {},
   "outputs": [
    {
     "name": "stdout",
     "output_type": "stream",
     "text": [
      "Model: \"FeatureExtractionModel\"\n",
      "_________________________________________________________________\n",
      " Layer (type)                Output Shape              Param #   \n",
      "=================================================================\n",
      " inputLayer (InputLayer)     [(None, 256, 256, 3)]     0         \n",
      "                                                                 \n",
      " vgg16 (Functional)          (None, None, None, 512)   14714688  \n",
      "                                                                 \n",
      " poolingLayer (GlobalAverage  (None, 512)              0         \n",
      " Pooling2D)                                                      \n",
      "                                                                 \n",
      " outputLayer (Dense)         (None, 2)                 1026      \n",
      "                                                                 \n",
      " activationLayer (Activation  (None, 2)                0         \n",
      " )                                                               \n",
      "                                                                 \n",
      "=================================================================\n",
      "Total params: 14,715,714\n",
      "Trainable params: 1,026\n",
      "Non-trainable params: 14,714,688\n",
      "_________________________________________________________________\n"
     ]
    }
   ],
   "source": [
    "model.summary()"
   ]
  },
  {
   "cell_type": "code",
   "execution_count": 6,
   "id": "310c9e54",
   "metadata": {},
   "outputs": [],
   "source": [
    "model.compile(loss='categorical_crossentropy', optimizer=tf.keras.optimizers.Adam(), metrics=['accuracy'])\n"
   ]
  },
  {
   "cell_type": "code",
   "execution_count": 7,
   "id": "a05ec56a",
   "metadata": {},
   "outputs": [
    {
     "name": "stdout",
     "output_type": "stream",
     "text": [
      "Epoch 1/5\n",
      "72/72 [==============================] - 664s 9s/step - loss: 5.4793 - accuracy: 0.7727\n",
      "Epoch 2/5\n",
      "72/72 [==============================] - 614s 9s/step - loss: 6.2035 - accuracy: 0.6725\n",
      "Epoch 3/5\n",
      "72/72 [==============================] - 721s 10s/step - loss: 1.2462 - accuracy: 0.8488\n",
      "Epoch 4/5\n",
      "72/72 [==============================] - 693s 10s/step - loss: 0.7121 - accuracy: 0.8949\n",
      "Epoch 5/5\n",
      "72/72 [==============================] - 629s 9s/step - loss: 0.4603 - accuracy: 0.9196\n"
     ]
    },
    {
     "data": {
      "text/plain": [
       "<keras.callbacks.History at 0x4e29ee0>"
      ]
     },
     "execution_count": 7,
     "metadata": {},
     "output_type": "execute_result"
    }
   ],
   "source": [
    "model.fit(train, epochs=5, )"
   ]
  },
  {
   "cell_type": "code",
   "execution_count": 8,
   "id": "f885759f",
   "metadata": {},
   "outputs": [],
   "source": [
    "pred_train, lbl_train = [], []\n",
    "for i,k in iter(train):\n",
    "    \n",
    "    pred_train = pred_train + list(model.predict(i))\n",
    "    lbl_train = lbl_train + list(k)\n",
    "    \n",
    "pred_train, lbl_train = list(np.argmax(np.array(pred_train),1)), list(np.argmax(np.array(lbl_train),1))"
   ]
  },
  {
   "cell_type": "code",
   "execution_count": 9,
   "id": "0f65211c",
   "metadata": {},
   "outputs": [
    {
     "name": "stdout",
     "output_type": "stream",
     "text": [
      "Точность на обучающей выборке =  0.9046153846153846\n"
     ]
    }
   ],
   "source": [
    "print('Точность на обучающей выборке = ',accuracy_score(lbl_train,pred_train))"
   ]
  },
  {
   "cell_type": "code",
   "execution_count": 10,
   "id": "6586bcf1",
   "metadata": {},
   "outputs": [
    {
     "name": "stdout",
     "output_type": "stream",
     "text": [
      "confusion_matrix на обучающей выборке = \n",
      " [[ 555  212]\n",
      " [   5 1503]]\n"
     ]
    }
   ],
   "source": [
    "print('confusion_matrix на обучающей выборке = \\n',confusion_matrix(lbl_train,pred_train))"
   ]
  },
  {
   "cell_type": "code",
   "execution_count": 11,
   "id": "351d2cb9",
   "metadata": {},
   "outputs": [],
   "source": [
    "pred_test, lbl_test = [], []\n",
    "for i,k in iter(val):\n",
    "    \n",
    "    pred_test = pred_test + list(model.predict(i))\n",
    "    lbl_test = lbl_test + list(k)\n",
    "    \n",
    "pred_test, lbl_test = list(np.argmax(np.array(pred_test),1)), list(np.argmax(np.array(lbl_test),1))"
   ]
  },
  {
   "cell_type": "code",
   "execution_count": 12,
   "id": "952c86e5",
   "metadata": {},
   "outputs": [
    {
     "name": "stdout",
     "output_type": "stream",
     "text": [
      "Точность на тестовой выборке =  0.9006410256410257\n"
     ]
    }
   ],
   "source": [
    "print('Точность на тестовой выборке = ',accuracy_score(lbl_test,pred_test))"
   ]
  },
  {
   "cell_type": "code",
   "execution_count": 13,
   "id": "3e4e4aa7",
   "metadata": {},
   "outputs": [
    {
     "name": "stdout",
     "output_type": "stream",
     "text": [
      "confusion_matrix на тестовой выборке = \n",
      " [[247  92]\n",
      " [  1 596]]\n"
     ]
    }
   ],
   "source": [
    "print('confusion_matrix на тестовой выборке = \\n',confusion_matrix(lbl_test,pred_test))"
   ]
  },
  {
   "cell_type": "markdown",
   "id": "5b26a839",
   "metadata": {},
   "source": [
    "### ResNet "
   ]
  },
  {
   "cell_type": "code",
   "execution_count": 14,
   "id": "f545d775",
   "metadata": {},
   "outputs": [],
   "source": [
    "data_augmentation = tf.keras.Sequential([\n",
    "  tf.keras.layers.RandomFlip('horizontal'),\n",
    "  tf.keras.layers.RandomRotation(0.2),\n",
    "])\n",
    "global_average_layer = tf.keras.layers.GlobalAveragePooling2D()"
   ]
  },
  {
   "cell_type": "code",
   "execution_count": 15,
   "id": "4ae02465",
   "metadata": {},
   "outputs": [],
   "source": [
    "base_model = tf.keras.applications.ResNet50(include_top=False)\n",
    "base_model.trainable = False\n",
    "\n",
    "from tensorflow.keras import layers\n",
    "\n",
    "inputs = layers.Input(shape = ( 256, 256, 3), name='inputLayer')\n",
    "x = base_model(inputs, training = False)\n",
    "x = layers.GlobalAveragePooling2D(name='poolingLayer')(x)\n",
    "x = layers.Dense(2, name='outputLayer')(x)\n",
    "outputs = layers.Activation(activation=\"softmax\", dtype=tf.float32, name='activationLayer')(x)\n",
    "\n",
    "model = tf.keras.Model(inputs, outputs, name = \"FeatureExtractionModel\")"
   ]
  },
  {
   "cell_type": "code",
   "execution_count": 16,
   "id": "ce26b370",
   "metadata": {},
   "outputs": [
    {
     "name": "stdout",
     "output_type": "stream",
     "text": [
      "Model: \"FeatureExtractionModel\"\n",
      "_________________________________________________________________\n",
      " Layer (type)                Output Shape              Param #   \n",
      "=================================================================\n",
      " inputLayer (InputLayer)     [(None, 256, 256, 3)]     0         \n",
      "                                                                 \n",
      " resnet50 (Functional)       (None, None, None, 2048)  23587712  \n",
      "                                                                 \n",
      " poolingLayer (GlobalAverage  (None, 2048)             0         \n",
      " Pooling2D)                                                      \n",
      "                                                                 \n",
      " outputLayer (Dense)         (None, 2)                 4098      \n",
      "                                                                 \n",
      " activationLayer (Activation  (None, 2)                0         \n",
      " )                                                               \n",
      "                                                                 \n",
      "=================================================================\n",
      "Total params: 23,591,810\n",
      "Trainable params: 4,098\n",
      "Non-trainable params: 23,587,712\n",
      "_________________________________________________________________\n"
     ]
    }
   ],
   "source": [
    "model.summary()"
   ]
  },
  {
   "cell_type": "code",
   "execution_count": 17,
   "id": "c8c5e6ad",
   "metadata": {},
   "outputs": [],
   "source": [
    "model.compile(loss='categorical_crossentropy', optimizer=tf.keras.optimizers.Adam(), metrics=['accuracy'])\n"
   ]
  },
  {
   "cell_type": "code",
   "execution_count": 18,
   "id": "ad80e067",
   "metadata": {},
   "outputs": [
    {
     "name": "stdout",
     "output_type": "stream",
     "text": [
      "Epoch 1/5\n",
      "72/72 [==============================] - 216s 3s/step - loss: 1.2782 - accuracy: 0.8457\n",
      "Epoch 2/5\n",
      "72/72 [==============================] - 216s 3s/step - loss: 2.3887 - accuracy: 0.7319\n",
      "Epoch 3/5\n",
      "72/72 [==============================] - 220s 3s/step - loss: 0.2656 - accuracy: 0.9169\n",
      "Epoch 4/5\n",
      "72/72 [==============================] - 216s 3s/step - loss: 0.1337 - accuracy: 0.9525\n",
      "Epoch 5/5\n",
      "72/72 [==============================] - 213s 3s/step - loss: 0.0638 - accuracy: 0.9763\n"
     ]
    },
    {
     "data": {
      "text/plain": [
       "<keras.callbacks.History at 0x244df940>"
      ]
     },
     "execution_count": 18,
     "metadata": {},
     "output_type": "execute_result"
    }
   ],
   "source": [
    "model.fit(train, epochs=5, )"
   ]
  },
  {
   "cell_type": "code",
   "execution_count": 19,
   "id": "bcc0e93d",
   "metadata": {},
   "outputs": [],
   "source": [
    "pred_train, lbl_train = [], []\n",
    "for i,k in iter(train):\n",
    "    \n",
    "    pred_train = pred_train + list(model.predict(i))\n",
    "    lbl_train = lbl_train + list(k)\n",
    "    \n",
    "pred_train, lbl_train = list(np.argmax(np.array(pred_train),1)), list(np.argmax(np.array(lbl_train),1))"
   ]
  },
  {
   "cell_type": "code",
   "execution_count": 20,
   "id": "4caa88e6",
   "metadata": {},
   "outputs": [
    {
     "name": "stdout",
     "output_type": "stream",
     "text": [
      "Точность на обучающей выборке =  0.9828571428571429\n"
     ]
    }
   ],
   "source": [
    "print('Точность на обучающей выборке = ',accuracy_score(lbl_train,pred_train))"
   ]
  },
  {
   "cell_type": "code",
   "execution_count": 21,
   "id": "aaa83737",
   "metadata": {},
   "outputs": [
    {
     "name": "stdout",
     "output_type": "stream",
     "text": [
      "confusion_matrix на обучающей выборке = \n",
      " [[ 733   34]\n",
      " [   5 1503]]\n"
     ]
    }
   ],
   "source": [
    "print('confusion_matrix на обучающей выборке = \\n',confusion_matrix(lbl_train,pred_train))"
   ]
  },
  {
   "cell_type": "code",
   "execution_count": 22,
   "id": "5f12ee2a",
   "metadata": {},
   "outputs": [],
   "source": [
    "pred_test, lbl_test = [], []\n",
    "for i,k in iter(val):\n",
    "    \n",
    "    pred_test = pred_test + list(model.predict(i))\n",
    "    lbl_test = lbl_test + list(k)\n",
    "    \n",
    "pred_test, lbl_test = list(np.argmax(np.array(pred_test),1)), list(np.argmax(np.array(lbl_test),1))"
   ]
  },
  {
   "cell_type": "code",
   "execution_count": 23,
   "id": "695ea9f7",
   "metadata": {},
   "outputs": [
    {
     "name": "stdout",
     "output_type": "stream",
     "text": [
      "Точность на тестовой выборке =  0.9775641025641025\n"
     ]
    }
   ],
   "source": [
    "print('Точность на тестовой выборке = ',accuracy_score(lbl_test,pred_test))"
   ]
  },
  {
   "cell_type": "code",
   "execution_count": 24,
   "id": "f256c4f2",
   "metadata": {},
   "outputs": [
    {
     "name": "stdout",
     "output_type": "stream",
     "text": [
      "confusion_matrix на тестовой выборке = \n",
      " [[320  19]\n",
      " [  2 595]]\n"
     ]
    }
   ],
   "source": [
    "print('confusion_matrix на тестовой выборке = \\n',confusion_matrix(lbl_test,pred_test))"
   ]
  },
  {
   "cell_type": "markdown",
   "id": "a40f2313",
   "metadata": {},
   "source": [
    "#### Выводы \n",
    "- Обе модели справились с задачей хорошо\n",
    "- Переобучение не наблюдается \n",
    "- ResNet - модель показала себя лучше"
   ]
  },
  {
   "cell_type": "markdown",
   "id": "c028e3d8",
   "metadata": {},
   "source": [
    "# Породы "
   ]
  },
  {
   "cell_type": "markdown",
   "id": "35858797",
   "metadata": {},
   "source": [
    "### VGG16"
   ]
  },
  {
   "cell_type": "code",
   "execution_count": 25,
   "id": "4fa74401",
   "metadata": {},
   "outputs": [
    {
     "name": "stdout",
     "output_type": "stream",
     "text": [
      "Found 2348 files belonging to 35 classes.\n",
      "Found 863 files belonging to 35 classes.\n"
     ]
    }
   ],
   "source": [
    "train = tf.keras.utils.image_dataset_from_directory('animals/train', shuffle=False,label_mode='categorical')\n",
    "val = tf.keras.utils.image_dataset_from_directory('animals/val', shuffle= False,label_mode='categorical')"
   ]
  },
  {
   "cell_type": "code",
   "execution_count": 26,
   "id": "d8754af1",
   "metadata": {},
   "outputs": [],
   "source": [
    "data_augmentation = tf.keras.Sequential([\n",
    "  tf.keras.layers.RandomFlip('horizontal'),\n",
    "  tf.keras.layers.RandomRotation(0.2),\n",
    "])\n",
    "global_average_layer = tf.keras.layers.GlobalAveragePooling2D()"
   ]
  },
  {
   "cell_type": "code",
   "execution_count": 27,
   "id": "c90a0834",
   "metadata": {},
   "outputs": [],
   "source": [
    "base_model = tf.keras.applications.VGG16(include_top=False)\n",
    "base_model.trainable = False\n",
    "\n",
    "from tensorflow.keras import layers\n",
    "\n",
    "inputs = layers.Input(shape = ( 256, 256, 3), name='inputLayer')\n",
    "x = base_model(inputs, training = False)\n",
    "x = layers.GlobalAveragePooling2D(name='poolingLayer')(x)\n",
    "x = layers.Dense(35, name='outputLayer')(x)\n",
    "outputs = layers.Activation(activation=\"softmax\", dtype=tf.float32, name='activationLayer')(x)\n",
    "\n",
    "model = tf.keras.Model(inputs, outputs, name = \"FeatureExtractionModel\")"
   ]
  },
  {
   "cell_type": "code",
   "execution_count": 28,
   "id": "c29a1968",
   "metadata": {},
   "outputs": [
    {
     "name": "stdout",
     "output_type": "stream",
     "text": [
      "Model: \"FeatureExtractionModel\"\n",
      "_________________________________________________________________\n",
      " Layer (type)                Output Shape              Param #   \n",
      "=================================================================\n",
      " inputLayer (InputLayer)     [(None, 256, 256, 3)]     0         \n",
      "                                                                 \n",
      " vgg16 (Functional)          (None, None, None, 512)   14714688  \n",
      "                                                                 \n",
      " poolingLayer (GlobalAverage  (None, 512)              0         \n",
      " Pooling2D)                                                      \n",
      "                                                                 \n",
      " outputLayer (Dense)         (None, 35)                17955     \n",
      "                                                                 \n",
      " activationLayer (Activation  (None, 35)               0         \n",
      " )                                                               \n",
      "                                                                 \n",
      "=================================================================\n",
      "Total params: 14,732,643\n",
      "Trainable params: 17,955\n",
      "Non-trainable params: 14,714,688\n",
      "_________________________________________________________________\n"
     ]
    }
   ],
   "source": [
    "model.summary()"
   ]
  },
  {
   "cell_type": "code",
   "execution_count": 29,
   "id": "ccd8af36",
   "metadata": {},
   "outputs": [],
   "source": [
    "model.compile(loss='categorical_crossentropy', optimizer=tf.keras.optimizers.Adam(), metrics=['accuracy'])\n"
   ]
  },
  {
   "cell_type": "code",
   "execution_count": 30,
   "id": "c6fee794",
   "metadata": {},
   "outputs": [
    {
     "name": "stdout",
     "output_type": "stream",
     "text": [
      "Epoch 1/5\n",
      "74/74 [==============================] - 584s 8s/step - loss: 20.1800 - accuracy: 0.0077\n",
      "Epoch 2/5\n",
      "74/74 [==============================] - 592s 8s/step - loss: 12.2462 - accuracy: 0.0183\n",
      "Epoch 3/5\n",
      "74/74 [==============================] - 591s 8s/step - loss: 10.3838 - accuracy: 0.0311\n",
      "Epoch 4/5\n",
      "74/74 [==============================] - 591s 8s/step - loss: 8.6415 - accuracy: 0.0669\n",
      "Epoch 5/5\n",
      "74/74 [==============================] - 654s 9s/step - loss: 7.0543 - accuracy: 0.1465\n"
     ]
    },
    {
     "data": {
      "text/plain": [
       "<keras.callbacks.History at 0x21e8a190>"
      ]
     },
     "execution_count": 30,
     "metadata": {},
     "output_type": "execute_result"
    }
   ],
   "source": [
    "model.fit(train, epochs=5, )"
   ]
  },
  {
   "cell_type": "code",
   "execution_count": 31,
   "id": "5720c2d2",
   "metadata": {},
   "outputs": [],
   "source": [
    "pred_train, lbl_train = [], []\n",
    "for i,k in iter(train):\n",
    "    \n",
    "    pred_train = pred_train + list(model.predict(i))\n",
    "    lbl_train = lbl_train + list(k)\n",
    "    \n",
    "pred_train, lbl_train = list(np.argmax(np.array(pred_train),1)), list(np.argmax(np.array(lbl_train),1))"
   ]
  },
  {
   "cell_type": "code",
   "execution_count": 32,
   "id": "b7de2fc5",
   "metadata": {},
   "outputs": [
    {
     "name": "stdout",
     "output_type": "stream",
     "text": [
      "Точность на обучающей выборке =  0.4178023850085179\n"
     ]
    }
   ],
   "source": [
    "print('Точность на обучающей выборке = ',accuracy_score(lbl_train,pred_train))"
   ]
  },
  {
   "cell_type": "code",
   "execution_count": 33,
   "id": "9adcda8b",
   "metadata": {},
   "outputs": [
    {
     "name": "stdout",
     "output_type": "stream",
     "text": [
      "confusion_matrix на обучающей выборке = \n",
      " [[ 0  0  0 ...  0  0  0]\n",
      " [ 0  1  0 ...  0  0  0]\n",
      " [ 0  0  1 ...  0  0  0]\n",
      " ...\n",
      " [ 0  0  0 ... 15  0  0]\n",
      " [ 0  0  0 ...  0 45  3]\n",
      " [ 0  0  0 ...  0  5 25]]\n"
     ]
    }
   ],
   "source": [
    "print('confusion_matrix на обучающей выборке = \\n',confusion_matrix(lbl_train,pred_train))"
   ]
  },
  {
   "cell_type": "code",
   "execution_count": 34,
   "id": "77b768c6",
   "metadata": {},
   "outputs": [],
   "source": [
    "pred_test, lbl_test = [], []\n",
    "for i,k in iter(val):\n",
    "    \n",
    "    pred_test = pred_test + list(model.predict(i))\n",
    "    lbl_test = lbl_test + list(k)\n",
    "    \n",
    "pred_test, lbl_test = list(np.argmax(np.array(pred_test),1)), list(np.argmax(np.array(lbl_test),1))"
   ]
  },
  {
   "cell_type": "code",
   "execution_count": 35,
   "id": "acbee298",
   "metadata": {},
   "outputs": [
    {
     "name": "stdout",
     "output_type": "stream",
     "text": [
      "Точность на тестовой выборке =  0.35805330243337197\n"
     ]
    }
   ],
   "source": [
    "print('Точность на тестовой выборке = ',accuracy_score(lbl_test,pred_test))"
   ]
  },
  {
   "cell_type": "code",
   "execution_count": 36,
   "id": "82ff1ce6",
   "metadata": {},
   "outputs": [
    {
     "name": "stdout",
     "output_type": "stream",
     "text": [
      "confusion_matrix на тестовой выборке = \n",
      " [[ 0  1  0 ...  0  0  0]\n",
      " [ 0  0  0 ...  0  0  0]\n",
      " [ 0  0  0 ...  0  0  0]\n",
      " ...\n",
      " [ 0  0  0 ...  7  0  0]\n",
      " [ 0  0  0 ...  0 14  0]\n",
      " [ 0  0  0 ...  0  4  6]]\n"
     ]
    }
   ],
   "source": [
    "print('confusion_matrix на тестовой выборке = \\n',confusion_matrix(lbl_test,pred_test))"
   ]
  },
  {
   "cell_type": "markdown",
   "id": "3d851bca",
   "metadata": {},
   "source": [
    "### ResNet "
   ]
  },
  {
   "cell_type": "code",
   "execution_count": 42,
   "id": "4c27ef35",
   "metadata": {},
   "outputs": [],
   "source": [
    "data_augmentation = tf.keras.Sequential([\n",
    "  tf.keras.layers.RandomFlip('horizontal'),\n",
    "  tf.keras.layers.RandomRotation(0.2),\n",
    "])\n",
    "global_average_layer = tf.keras.layers.GlobalAveragePooling2D()"
   ]
  },
  {
   "cell_type": "code",
   "execution_count": 43,
   "id": "857c10a4",
   "metadata": {},
   "outputs": [],
   "source": [
    "base_model = tf.keras.applications.ResNet50(include_top=False)\n",
    "base_model.trainable = False\n",
    "\n",
    "from tensorflow.keras import layers\n",
    "\n",
    "inputs = layers.Input(shape = ( 256, 256, 3), name='inputLayer')\n",
    "x = base_model(inputs, training = False)\n",
    "x = layers.GlobalAveragePooling2D(name='poolingLayer')(x)\n",
    "x = layers.Dense(35, name='outputLayer')(x)\n",
    "outputs = layers.Activation(activation=\"softmax\", dtype=tf.float32, name='activationLayer')(x)\n",
    "\n",
    "model = tf.keras.Model(inputs, outputs, name = \"FeatureExtractionModel\")"
   ]
  },
  {
   "cell_type": "code",
   "execution_count": 44,
   "id": "78d4900d",
   "metadata": {},
   "outputs": [
    {
     "name": "stdout",
     "output_type": "stream",
     "text": [
      "Model: \"FeatureExtractionModel\"\n",
      "_________________________________________________________________\n",
      " Layer (type)                Output Shape              Param #   \n",
      "=================================================================\n",
      " inputLayer (InputLayer)     [(None, 256, 256, 3)]     0         \n",
      "                                                                 \n",
      " resnet50 (Functional)       (None, None, None, 2048)  23587712  \n",
      "                                                                 \n",
      " poolingLayer (GlobalAverage  (None, 2048)             0         \n",
      " Pooling2D)                                                      \n",
      "                                                                 \n",
      " outputLayer (Dense)         (None, 35)                71715     \n",
      "                                                                 \n",
      " activationLayer (Activation  (None, 35)               0         \n",
      " )                                                               \n",
      "                                                                 \n",
      "=================================================================\n",
      "Total params: 23,659,427\n",
      "Trainable params: 71,715\n",
      "Non-trainable params: 23,587,712\n",
      "_________________________________________________________________\n"
     ]
    }
   ],
   "source": [
    "model.summary()"
   ]
  },
  {
   "cell_type": "code",
   "execution_count": 45,
   "id": "97df28e7",
   "metadata": {},
   "outputs": [],
   "source": [
    "model.compile(loss='categorical_crossentropy', optimizer=tf.keras.optimizers.Adam(), metrics=['accuracy'])\n"
   ]
  },
  {
   "cell_type": "code",
   "execution_count": 46,
   "id": "9353e99e",
   "metadata": {},
   "outputs": [
    {
     "name": "stdout",
     "output_type": "stream",
     "text": [
      "Epoch 1/5\n",
      "74/74 [==============================] - 290s 4s/step - loss: 8.1749 - accuracy: 0.0072\n",
      "Epoch 2/5\n",
      "74/74 [==============================] - 261s 4s/step - loss: 4.2019 - accuracy: 0.0336\n",
      "Epoch 3/5\n",
      "74/74 [==============================] - 248s 3s/step - loss: 3.8176 - accuracy: 0.0967\n",
      "Epoch 4/5\n",
      "74/74 [==============================] - 249s 3s/step - loss: 2.9738 - accuracy: 0.2862\n",
      "Epoch 5/5\n",
      "74/74 [==============================] - 249s 3s/step - loss: 2.6741 - accuracy: 0.3722\n"
     ]
    },
    {
     "data": {
      "text/plain": [
       "<keras.callbacks.History at 0x287caeb0>"
      ]
     },
     "execution_count": 46,
     "metadata": {},
     "output_type": "execute_result"
    }
   ],
   "source": [
    "model.fit(train, epochs=5, )"
   ]
  },
  {
   "cell_type": "code",
   "execution_count": 47,
   "id": "42b6a976",
   "metadata": {},
   "outputs": [],
   "source": [
    "pred_train, lbl_train = [], []\n",
    "for i,k in iter(train):\n",
    "    \n",
    "    pred_train = pred_train + list(model.predict(i))\n",
    "    lbl_train = lbl_train + list(k)\n",
    "    \n",
    "pred_train, lbl_train = list(np.argmax(np.array(pred_train),1)), list(np.argmax(np.array(lbl_train),1))"
   ]
  },
  {
   "cell_type": "code",
   "execution_count": 48,
   "id": "343dd441",
   "metadata": {},
   "outputs": [
    {
     "name": "stdout",
     "output_type": "stream",
     "text": [
      "Точность на обучающей выборке =  0.65587734241908\n"
     ]
    }
   ],
   "source": [
    "print('Точность на обучающей выборке = ',accuracy_score(lbl_train,pred_train))"
   ]
  },
  {
   "cell_type": "code",
   "execution_count": 49,
   "id": "5c7614e6",
   "metadata": {},
   "outputs": [
    {
     "name": "stdout",
     "output_type": "stream",
     "text": [
      "confusion_matrix на обучающей выборке = \n",
      " [[ 0  0  0 ...  0  0  0]\n",
      " [ 0  1  0 ...  0  0  0]\n",
      " [ 0  0  0 ...  0  0  0]\n",
      " ...\n",
      " [ 0  0  0 ...  0  0  0]\n",
      " [ 0  0  0 ...  0 61  1]\n",
      " [ 0  0  0 ...  0  0 52]]\n"
     ]
    }
   ],
   "source": [
    "print('confusion_matrix на обучающей выборке = \\n',confusion_matrix(lbl_train,pred_train))"
   ]
  },
  {
   "cell_type": "code",
   "execution_count": 50,
   "id": "ceaed94f",
   "metadata": {},
   "outputs": [],
   "source": [
    "pred_test, lbl_test = [], []\n",
    "for i,k in iter(val):\n",
    "    \n",
    "    pred_test = pred_test + list(model.predict(i))\n",
    "    lbl_test = lbl_test + list(k)\n",
    "    \n",
    "pred_test, lbl_test = list(np.argmax(np.array(pred_test),1)), list(np.argmax(np.array(lbl_test),1))"
   ]
  },
  {
   "cell_type": "code",
   "execution_count": 51,
   "id": "799e77cf",
   "metadata": {},
   "outputs": [
    {
     "name": "stdout",
     "output_type": "stream",
     "text": [
      "Точность на тестовой выборке =  0.574739281575898\n"
     ]
    }
   ],
   "source": [
    "print('Точность на тестовой выборке = ',accuracy_score(lbl_test,pred_test))"
   ]
  },
  {
   "cell_type": "code",
   "execution_count": 52,
   "id": "f2a814fc",
   "metadata": {},
   "outputs": [
    {
     "name": "stdout",
     "output_type": "stream",
     "text": [
      "confusion_matrix на тестовой выборке = \n",
      " [[ 0  0  0 ...  0  0  0]\n",
      " [ 0  0  0 ...  0  0  0]\n",
      " [ 0  0  0 ...  0  0  0]\n",
      " ...\n",
      " [ 0  0  0 ...  0  0  0]\n",
      " [ 0  0  0 ...  0 20  0]\n",
      " [ 0  0  0 ...  0  0 15]]\n"
     ]
    }
   ],
   "source": [
    "print('confusion_matrix на тестовой выборке = \\n',confusion_matrix(lbl_test,pred_test))"
   ]
  },
  {
   "cell_type": "markdown",
   "id": "e9d0aa40",
   "metadata": {},
   "source": [
    "#### Выводы \n",
    "- У обоих моделей не наблюдается переобучение \n",
    "- ResNet - модель показало себя лучше "
   ]
  },
  {
   "cell_type": "code",
   "execution_count": null,
   "id": "d41c1baf",
   "metadata": {},
   "outputs": [],
   "source": []
  }
 ],
 "metadata": {
  "kernelspec": {
   "display_name": "Python 3",
   "language": "python",
   "name": "python3"
  },
  "language_info": {
   "codemirror_mode": {
    "name": "ipython",
    "version": 3
   },
   "file_extension": ".py",
   "mimetype": "text/x-python",
   "name": "python",
   "nbconvert_exporter": "python",
   "pygments_lexer": "ipython3",
   "version": "3.8.8"
  }
 },
 "nbformat": 4,
 "nbformat_minor": 5
}
