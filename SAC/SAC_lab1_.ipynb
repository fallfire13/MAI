{
 "cells": [
  {
   "cell_type": "markdown",
   "metadata": {},
   "source": [
    "# Лабораторная работа №1\n",
    "\n",
    "## по курсу \"Системы аналитических вычислений\"\n",
    "\n",
    "### студент: Аксенов А. Е."
   ]
  },
  {
   "cell_type": "markdown",
   "metadata": {},
   "source": [
    "## Задание 1 - Часть 1 - Квадратик"
   ]
  },
  {
   "cell_type": "code",
   "execution_count": 38,
   "metadata": {},
   "outputs": [
    {
     "data": {
      "image/png": "[encoded data removed]",
      "text/plain": [
       "Graphics object consisting of 4 graphics primitives"
      ]
     },
     "metadata": {},
     "output_type": "display_data"
    }
   ],
   "source": [
    "# Сдвиг координат\n",
    "def shift_matrix(matr, dx, dy):\n",
    "    return matr + matrix([ [dx, dy] for i in range(matr.nrows()) ])\n",
    "\n",
    "# Поворот коориднат\n",
    "def rotation_matrix(angle):\n",
    "    phi = math.radians(angle)\n",
    "    return matrix([\n",
    "        [cos(phi), -sin(phi)],\n",
    "        [sin(phi), cos(phi)]\n",
    "    ])\n",
    "\n",
    "# Высота и ширина прямоугольника\n",
    "height = 1\n",
    "width = 5\n",
    "\n",
    "rectangle = matrix([\n",
    "    [0, 0],\n",
    "    [0, height],\n",
    "    [width, height],\n",
    "    [width, 0],\n",
    "    [0, 0]\n",
    "])\n",
    "\n",
    "rotated_rectangles = []\n",
    "\n",
    "angles = [0, 60, 120, 90]\n",
    "\n",
    "shifts = [\n",
    "    [0, 0],\n",
    "    [5.5, 9.75],\n",
    "    [10.7, 10.25],\n",
    "    [8, 6]\n",
    "]\n",
    "\n",
    "for i in range(len(angles)):\n",
    "    rotated_rectangles.append(shift_matrix(rectangle * rotation_matrix(angles[i]), shifts[i][0], shifts[i][1]))\n",
    "\n",
    "lines = line(rotated_rectangles[0], color = 'blue')\n",
    "for i in range(1, len(rotated_rectangles)):\n",
    "    lines = lines + line(rotated_rectangles[i], color = 'red')\n",
    "\n",
    "# Рисуем что-то похожее на логотип Yandex\n",
    "show(lines, xmin = 0.0, xmax = 15.0, ymin = 0.0, ymax = 15.0, aspect_ratio = 1)"
   ]
  },
  {
   "cell_type": "markdown",
   "metadata": {},
   "source": [
    "## Задание 1 - Часть 2 - Исследование функции\n",
    "\n",
    "## Вариант задания"
   ]
  },
  {
   "cell_type": "code",
   "execution_count": 12,
   "metadata": {},
   "outputs": [],
   "source": [
    "tasks = [ \n",
    "            x/sin(3*x**2 - 2*x + 5*ln(x))\n",
    "            , (x**2 - 4)*sin((pi*(x**2))/6) / (x**2 - 1)\n",
    "            , sqrt(abs(3*x^3 + 2*x^2 - 10*x)) / (4*x)\n",
    "            , 1/2 * ln(sqrt(x^2 + 1) / sqrt(x^2 - 1))\n",
    "            , (x^3 - x^2 - x + 1)^(1/3) / tan(x)\n",
    "            , 2*log((x - 1) / x) + 1\n",
    "            , ln(x - 1) / (x - 1)^2\n",
    "        ]"
   ]
  },
  {
   "cell_type": "code",
   "execution_count": 13,
   "metadata": {},
   "outputs": [
    {
     "name": "stdout",
     "output_type": "stream",
     "text": [
      "Номер вашего задания: 1.\n"
     ]
    },
    {
     "data": {
      "text/html": [
       "<html><script type=\"math/tex; mode=display\">\\newcommand{\\Bold}[1]{\\mathbf{#1}}\\verb|Ваша|\\phantom{\\verb!x!}\\verb|функция:| \\frac{{\\left(x^{2} - 4\\right)} \\sin\\left(\\frac{1}{6} \\, \\pi x^{2}\\right)}{x^{2} - 1}</script></html>"
      ],
      "text/latex": [
       "\\begin{math}\n",
       "\\newcommand{\\Bold}[1]{\\mathbf{#1}}\\verb|Ваша|\\phantom{\\verb!x!}\\verb|функция:| \\frac{{\\left(x^{2} - 4\\right)} \\sin\\left(\\frac{1}{6} \\, \\pi x^{2}\\right)}{x^{2} - 1}\n",
       "\\end{math}"
      ],
      "text/plain": [
       "'Ваша функция: ' (x^2 - 4)*sin(1/6*pi*x^2)/(x^2 - 1)"
      ]
     },
     "metadata": {},
     "output_type": "display_data"
    }
   ],
   "source": [
    "def get_variant_for_number(_number, _variations_quo):\n",
    "    return (_number - 1) % _variations_quo\n",
    "\n",
    "\n",
    "your_number = 2\n",
    "number_of_your_task = get_variant_for_number(_number=your_number, _variations_quo=len(tasks))\n",
    "print(f\"Номер вашего задания: {number_of_your_task}.\")\n",
    "show(\"Ваша функция: \", tasks[number_of_your_task])"
   ]
  },
  {
   "cell_type": "markdown",
   "metadata": {},
   "source": [
    "### Область определения функции"
   ]
  },
  {
   "cell_type": "code",
   "execution_count": 14,
   "metadata": {
    "scrolled": true
   },
   "outputs": [
    {
     "data": {
      "text/html": [
       "<html><script type=\"math/tex; mode=display\">\\newcommand{\\Bold}[1]{\\mathbf{#1}}y =  \\frac{{\\left(x^{2} - 4\\right)} \\sin\\left(\\frac{1}{6} \\, \\pi x^{2}\\right)}{x^{2} - 1}</script></html>"
      ],
      "text/latex": [
       "\\begin{math}\n",
       "\\newcommand{\\Bold}[1]{\\mathbf{#1}}y =  \\frac{{\\left(x^{2} - 4\\right)} \\sin\\left(\\frac{1}{6} \\, \\pi x^{2}\\right)}{x^{2} - 1}\n",
       "\\end{math}"
      ],
      "text/plain": [
       "y =  (x^2 - 4)*sin(1/6*pi*x^2)/(x^2 - 1)"
      ]
     },
     "metadata": {},
     "output_type": "display_data"
    }
   ],
   "source": [
    "y(x) = (x**2 - 4)*sin((pi*(x**2))/6) / (x**2 - 1)\n",
    "show(LatexExpr(\"y = \"), y(x))"
   ]
  },
  {
   "cell_type": "code",
   "execution_count": 15,
   "metadata": {},
   "outputs": [
    {
     "data": {
      "text/html": [
       "<html><script type=\"math/tex; mode=display\">\\newcommand{\\Bold}[1]{\\mathbf{#1}}x_{0} = -1.0</script></html>"
      ],
      "text/latex": [
       "\\begin{math}\n",
       "\\newcommand{\\Bold}[1]{\\mathbf{#1}}x_{0} = -1.0\n",
       "\\end{math}"
      ],
      "text/plain": [
       "x_{0} = -1.0"
      ]
     },
     "metadata": {},
     "output_type": "display_data"
    },
    {
     "data": {
      "text/html": [
       "<html><script type=\"math/tex; mode=display\">\\newcommand{\\Bold}[1]{\\mathbf{#1}}x_{1} = 1.0</script></html>"
      ],
      "text/latex": [
       "\\begin{math}\n",
       "\\newcommand{\\Bold}[1]{\\mathbf{#1}}x_{1} = 1.0\n",
       "\\end{math}"
      ],
      "text/plain": [
       "x_{1} = 1.0"
      ]
     },
     "metadata": {},
     "output_type": "display_data"
    }
   ],
   "source": [
    "# Список точек, где функция не существует\n",
    "roots_null = []\n",
    "\n",
    "g = x ** 2 - 1\n",
    "solutions = solve(g == 0, x)\n",
    "\n",
    "for i in range(len(solutions)):\n",
    "    roots_null.append(float(solutions[i].rhs()))\n",
    "    show(LatexExpr(\"x_{\" + str(i) + \"} = \" + str(roots_null[-1])))"
   ]
  },
  {
   "cell_type": "markdown",
   "metadata": {},
   "source": [
    "### Является ли функция четной или нечетной, является ли периодической."
   ]
  },
  {
   "cell_type": "code",
   "execution_count": 16,
   "metadata": {},
   "outputs": [
    {
     "data": {
      "text/html": [
       "<html><script type=\"math/tex; mode=display\">\\newcommand{\\Bold}[1]{\\mathbf{#1}}y(x) - y(-x) = 0</script></html>"
      ],
      "text/latex": [
       "\\begin{math}\n",
       "\\newcommand{\\Bold}[1]{\\mathbf{#1}}y(x) - y(-x) = 0\n",
       "\\end{math}"
      ],
      "text/plain": [
       "y(x) - y(-x) = 0"
      ]
     },
     "metadata": {},
     "output_type": "display_data"
    }
   ],
   "source": [
    "# Чётность функции\n",
    "g = y(x) - y(-x)\n",
    "simplify(g)\n",
    "show(LatexExpr(\"y(x) - y(-x) = \" + str(g)))"
   ]
  },
  {
   "cell_type": "markdown",
   "metadata": {},
   "source": [
    "$y(x) = y(-x)$, поэтому функция $y(x)$ является чётной функцией"
   ]
  },
  {
   "cell_type": "code",
   "execution_count": 17,
   "metadata": {},
   "outputs": [
    {
     "data": {
      "text/plain": [
       "[T == -((x^3 - x)*sin(1/6*pi*T^2 + 1/3*pi*T*x + 1/6*pi*x^2) - (x^3 - 4*x)*sin(1/6*pi*x^2) + sqrt(4*(x^4 - 2*x^2 + 1)*sin(1/6*pi*T^2 + 1/3*pi*T*x + 1/6*pi*x^2)^2 - 5*(x^4 - 5*x^2 + 4)*sin(1/6*pi*T^2 + 1/3*pi*T*x + 1/6*pi*x^2)*sin(1/6*pi*x^2) + (x^4 - 8*x^2 + 16)*sin(1/6*pi*x^2)^2))/((x^2 - 1)*sin(1/6*pi*T^2 + 1/3*pi*T*x + 1/6*pi*x^2) - (x^2 - 4)*sin(1/6*pi*x^2)), T == -((x^3 - x)*sin(1/6*pi*T^2 + 1/3*pi*T*x + 1/6*pi*x^2) - (x^3 - 4*x)*sin(1/6*pi*x^2) - sqrt(4*(x^4 - 2*x^2 + 1)*sin(1/6*pi*T^2 + 1/3*pi*T*x + 1/6*pi*x^2)^2 - 5*(x^4 - 5*x^2 + 4)*sin(1/6*pi*T^2 + 1/3*pi*T*x + 1/6*pi*x^2)*sin(1/6*pi*x^2) + (x^4 - 8*x^2 + 16)*sin(1/6*pi*x^2)^2))/((x^2 - 1)*sin(1/6*pi*T^2 + 1/3*pi*T*x + 1/6*pi*x^2) - (x^2 - 4)*sin(1/6*pi*x^2))]"
      ]
     },
     "execution_count": 17,
     "metadata": {},
     "output_type": "execute_result"
    }
   ],
   "source": [
    "# Периодичность функции\n",
    "var(\"T\")\n",
    "g = y(x) - y(T + x)\n",
    "g.simplify_full()\n",
    "solve(g, T)"
   ]
  },
  {
   "cell_type": "markdown",
   "metadata": {},
   "source": [
    "Получаем очень страшное трансцендентное выражение. Функция не является периодичной"
   ]
  },
  {
   "cell_type": "markdown",
   "metadata": {},
   "source": [
    "### Точки пересечения графика с осями координат."
   ]
  },
  {
   "cell_type": "code",
   "execution_count": 18,
   "metadata": {},
   "outputs": [
    {
     "data": {
      "image/png": "[encoded data removed]",
      "text/plain": [
       "Graphics object consisting of 3 graphics primitives"
      ]
     },
     "execution_count": 18,
     "metadata": {},
     "output_type": "execute_result"
    }
   ],
   "source": [
    "plot(y, xmin = -10.0, xmax = 10.0, ymin = -10.0, ymax = 10.0, exclude = [-1, 1])"
   ]
  },
  {
   "cell_type": "markdown",
   "metadata": {},
   "source": [
    "Пересечение с осью Ox."
   ]
  },
  {
   "cell_type": "code",
   "execution_count": 19,
   "metadata": {},
   "outputs": [
    {
     "data": {
      "text/html": [
       "<html><script type=\"math/tex; mode=display\">\\newcommand{\\Bold}[1]{\\mathbf{#1}}x_{0} = 0.0</script></html>"
      ],
      "text/latex": [
       "\\begin{math}\n",
       "\\newcommand{\\Bold}[1]{\\mathbf{#1}}x_{0} = 0.0\n",
       "\\end{math}"
      ],
      "text/plain": [
       "x_{0} = 0.0"
      ]
     },
     "metadata": {},
     "output_type": "display_data"
    },
    {
     "data": {
      "text/html": [
       "<html><script type=\"math/tex; mode=display\">\\newcommand{\\Bold}[1]{\\mathbf{#1}}x_{1} = -2.0</script></html>"
      ],
      "text/latex": [
       "\\begin{math}\n",
       "\\newcommand{\\Bold}[1]{\\mathbf{#1}}x_{1} = -2.0\n",
       "\\end{math}"
      ],
      "text/plain": [
       "x_{1} = -2.0"
      ]
     },
     "metadata": {},
     "output_type": "display_data"
    },
    {
     "data": {
      "text/html": [
       "<html><script type=\"math/tex; mode=display\">\\newcommand{\\Bold}[1]{\\mathbf{#1}}x_{2} = 2.0</script></html>"
      ],
      "text/latex": [
       "\\begin{math}\n",
       "\\newcommand{\\Bold}[1]{\\mathbf{#1}}x_{2} = 2.0\n",
       "\\end{math}"
      ],
      "text/plain": [
       "x_{2} = 2.0"
      ]
     },
     "metadata": {},
     "output_type": "display_data"
    }
   ],
   "source": [
    "# Аналитические корни\n",
    "roots = []\n",
    "\n",
    "solutions = solve(y, x)\n",
    "for i in range(len(solutions)):\n",
    "    roots.append(float(solutions[i].rhs()))\n",
    "    show(LatexExpr(\"x_{\" + str(i) + \"} = \" + str(roots[-1])))"
   ]
  },
  {
   "cell_type": "code",
   "execution_count": 20,
   "metadata": {},
   "outputs": [
    {
     "data": {
      "text/html": [
       "<html><script type=\"math/tex; mode=display\">\\newcommand{\\Bold}[1]{\\mathbf{#1}}x_3 = 2.4494897427831783</script></html>"
      ],
      "text/latex": [
       "\\begin{math}\n",
       "\\newcommand{\\Bold}[1]{\\mathbf{#1}}x_3 = 2.4494897427831783\n",
       "\\end{math}"
      ],
      "text/plain": [
       "x_3 = 2.4494897427831783"
      ]
     },
     "metadata": {},
     "output_type": "display_data"
    },
    {
     "data": {
      "text/html": [
       "<html><script type=\"math/tex; mode=display\">\\newcommand{\\Bold}[1]{\\mathbf{#1}}x_4 = 3.464101615137632</script></html>"
      ],
      "text/latex": [
       "\\begin{math}\n",
       "\\newcommand{\\Bold}[1]{\\mathbf{#1}}x_4 = 3.464101615137632\n",
       "\\end{math}"
      ],
      "text/plain": [
       "x_4 = 3.464101615137632"
      ]
     },
     "metadata": {},
     "output_type": "display_data"
    }
   ],
   "source": [
    "# Численные корни\n",
    "x3 = find_root(y, 2.1, 3)\n",
    "show(LatexExpr(\"x_3 = \" + str(x3)))\n",
    "roots.append(x3)\n",
    "\n",
    "x4 = find_root(y, 3, 4)\n",
    "show(LatexExpr(\"x_4 = \" + str(x4)))\n",
    "roots.append(x4)"
   ]
  },
  {
   "cell_type": "markdown",
   "metadata": {},
   "source": [
    "Пересечение с осью Oy."
   ]
  },
  {
   "cell_type": "code",
   "execution_count": 21,
   "metadata": {},
   "outputs": [
    {
     "data": {
      "text/html": [
       "<html><script type=\"math/tex; mode=display\">\\newcommand{\\Bold}[1]{\\mathbf{#1}}y_0 = 0</script></html>"
      ],
      "text/latex": [
       "\\begin{math}\n",
       "\\newcommand{\\Bold}[1]{\\mathbf{#1}}y_0 = 0\n",
       "\\end{math}"
      ],
      "text/plain": [
       "y_0 = 0"
      ]
     },
     "metadata": {},
     "output_type": "display_data"
    }
   ],
   "source": [
    "show(LatexExpr(\"y_0 = \" + str(y(0))))"
   ]
  },
  {
   "cell_type": "markdown",
   "metadata": {},
   "source": [
    "### Промежутки знакопостоянства."
   ]
  },
  {
   "cell_type": "code",
   "execution_count": 22,
   "metadata": {},
   "outputs": [
    {
     "data": {
      "image/png": "[encoded data removed]",
      "text/plain": [
       "Graphics object consisting of 21 graphics primitives"
      ]
     },
     "metadata": {},
     "output_type": "display_data"
    }
   ],
   "source": [
    "roots = roots + roots_null\n",
    "roots = sorted(roots)\n",
    "\n",
    "intervals_of_constancy = plot(0, xmin=roots[0], xmax=roots[-1], ymin=-0.5, ymax=0.5)\n",
    "\n",
    "y_margin = 0.05\n",
    "\n",
    "# Добавление точек\n",
    "for i in roots:\n",
    "    intervals_of_constancy += point((i, 0), color=\"red\", size=30, zorder=10)\n",
    "    intervals_of_constancy += text(\"$\" + str(round(i, 2)) + \"$\", (i, -y_margin), color=\"black\", fontsize=14)\n",
    "\n",
    "# Добавление знаков\n",
    "for i in range(len(roots) - 1):\n",
    "    x_cur = float(roots[i] + roots[i + 1]) / 2\n",
    "    display_sign = \"-\"\n",
    "    if (y(x_cur).n(digits = 10) > 0):\n",
    "        display_sign = \"+\"\n",
    "    intervals_of_constancy += text(display_sign, (x_cur , y_margin), color=\"black\", fontsize=14)\n",
    "\n",
    "intervals_of_constancy.show(axes=False)"
   ]
  },
  {
   "cell_type": "markdown",
   "metadata": {},
   "source": [
    "### Промежутки возрастания и убывания."
   ]
  },
  {
   "cell_type": "code",
   "execution_count": 23,
   "metadata": {},
   "outputs": [
    {
     "data": {
      "image/png": "[encoded data removed]",
      "text/plain": [
       "Graphics object consisting of 3 graphics primitives"
      ]
     },
     "execution_count": 23,
     "metadata": {},
     "output_type": "execute_result"
    }
   ],
   "source": [
    "y_d = derivative(y(x))\n",
    "plot(y_d, xmin = -10.0, xmax = 10.0, ymin = -10.0, ymax = 10.0, exclude = [-1, 1])"
   ]
  },
  {
   "cell_type": "code",
   "execution_count": 24,
   "metadata": {},
   "outputs": [
    {
     "data": {
      "text/html": [
       "<html><script type=\"math/tex; mode=display\">\\newcommand{\\Bold}[1]{\\mathbf{#1}}x_0 = -3.041562328266405</script></html>"
      ],
      "text/latex": [
       "\\begin{math}\n",
       "\\newcommand{\\Bold}[1]{\\mathbf{#1}}x_0 = -3.041562328266405\n",
       "\\end{math}"
      ],
      "text/plain": [
       "x_0 = -3.041562328266405"
      ]
     },
     "metadata": {},
     "output_type": "display_data"
    },
    {
     "data": {
      "text/html": [
       "<html><script type=\"math/tex; mode=display\">\\newcommand{\\Bold}[1]{\\mathbf{#1}}x_1 = -2.2188472151361713</script></html>"
      ],
      "text/latex": [
       "\\begin{math}\n",
       "\\newcommand{\\Bold}[1]{\\mathbf{#1}}x_1 = -2.2188472151361713\n",
       "\\end{math}"
      ],
      "text/plain": [
       "x_1 = -2.2188472151361713"
      ]
     },
     "metadata": {},
     "output_type": "display_data"
    },
    {
     "data": {
      "text/html": [
       "<html><script type=\"math/tex; mode=display\">\\newcommand{\\Bold}[1]{\\mathbf{#1}}x_2 = 0.0</script></html>"
      ],
      "text/latex": [
       "\\begin{math}\n",
       "\\newcommand{\\Bold}[1]{\\mathbf{#1}}x_2 = 0.0\n",
       "\\end{math}"
      ],
      "text/plain": [
       "x_2 = 0.0"
      ]
     },
     "metadata": {},
     "output_type": "display_data"
    },
    {
     "data": {
      "text/html": [
       "<html><script type=\"math/tex; mode=display\">\\newcommand{\\Bold}[1]{\\mathbf{#1}}x_3 = 2.2188472151361713</script></html>"
      ],
      "text/latex": [
       "\\begin{math}\n",
       "\\newcommand{\\Bold}[1]{\\mathbf{#1}}x_3 = 2.2188472151361713\n",
       "\\end{math}"
      ],
      "text/plain": [
       "x_3 = 2.2188472151361713"
      ]
     },
     "metadata": {},
     "output_type": "display_data"
    },
    {
     "data": {
      "text/html": [
       "<html><script type=\"math/tex; mode=display\">\\newcommand{\\Bold}[1]{\\mathbf{#1}}x_4 = 3.041562328266405</script></html>"
      ],
      "text/latex": [
       "\\begin{math}\n",
       "\\newcommand{\\Bold}[1]{\\mathbf{#1}}x_4 = 3.041562328266405\n",
       "\\end{math}"
      ],
      "text/plain": [
       "x_4 = 3.041562328266405"
      ]
     },
     "metadata": {},
     "output_type": "display_data"
    }
   ],
   "source": [
    "# Список точек предположительного экстремума\n",
    "roots_extreme = []\n",
    "\n",
    "# Численные корни\n",
    "x_extreme = find_root(y_d, -3.5, -3)\n",
    "show(LatexExpr(\"x_0 = \" + str(x_extreme)))\n",
    "roots_extreme.append(x_extreme)\n",
    "\n",
    "x_extreme = find_root(y_d, -3, -2)\n",
    "show(LatexExpr(\"x_1 = \" + str(x_extreme)))\n",
    "roots_extreme.append(x_extreme)\n",
    "\n",
    "x_extreme = find_root(y_d, -0.5, 0.5)\n",
    "show(LatexExpr(\"x_2 = \" + str(x_extreme)))\n",
    "roots_extreme.append(x_extreme)\n",
    "\n",
    "x_extreme = find_root(y_d, 2, 3)\n",
    "show(LatexExpr(\"x_3 = \" + str(x_extreme)))\n",
    "roots_extreme.append(x_extreme)\n",
    "\n",
    "x_extreme = find_root(y_d, 3, 3.5)\n",
    "show(LatexExpr(\"x_4 = \" + str(x_extreme)))\n",
    "roots_extreme.append(x_extreme)"
   ]
  },
  {
   "cell_type": "code",
   "execution_count": 25,
   "metadata": {},
   "outputs": [
    {
     "data": {
      "image/png": "[encoded data removed]",
      "text/plain": [
       "Graphics object consisting of 27 graphics primitives"
      ]
     },
     "metadata": {},
     "output_type": "display_data"
    }
   ],
   "source": [
    "# В этих точках производная не определена\n",
    "roots_extreme = roots_extreme + roots_null\n",
    "\n",
    "roots_extreme = sorted(roots_extreme)\n",
    "\n",
    "intervals_of_growth = plot(0, xmin=roots_extreme[0], xmax=roots_extreme[-1], ymin=-0.5, ymax=0.5)\n",
    "\n",
    "y_margin = 0.05\n",
    "\n",
    "# Добавление точек\n",
    "for i in roots_extreme:\n",
    "    intervals_of_growth += point((i, 0), color=\"red\", size=30, zorder=10)\n",
    "    intervals_of_growth += text(\"$\" + str(round(i, 2)) + \"$\", (i, -y_margin), color=\"black\", fontsize=14)\n",
    "\n",
    "# Добавление знаков\n",
    "for i in range(len(roots_extreme) - 1):\n",
    "    x_cur = float(roots_extreme[i] + roots_extreme[i + 1]) / 2\n",
    "    display_sign = \"-\"\n",
    "    display_rotation = -30\n",
    "    if (y_d(x_cur).n(digits = 10) > 0):\n",
    "        display_sign = \"+\"\n",
    "        display_rotation = 30\n",
    "    intervals_of_growth += text(display_sign, (x_cur , y_margin), color=\"black\", fontsize=14)\n",
    "    intervals_of_growth += text(\"→\", (x_cur , -2 * y_margin), rotation = display_rotation, color=\"black\", fontsize=14)\n",
    "\n",
    "intervals_of_growth.show(axes=False)\n"
   ]
  },
  {
   "cell_type": "markdown",
   "metadata": {},
   "source": [
    "### Точки экстремума и значения в этих точках."
   ]
  },
  {
   "cell_type": "code",
   "execution_count": 26,
   "metadata": {},
   "outputs": [
    {
     "data": {
      "image/png": "[encoded data removed]",
      "text/plain": [
       "Graphics object consisting of 3 graphics primitives"
      ]
     },
     "execution_count": 26,
     "metadata": {},
     "output_type": "execute_result"
    }
   ],
   "source": [
    "y_dd = derivative(y_d)\n",
    "simplify(y_dd)\n",
    "plot(y_dd, xmin = -10.0, xmax = 10.0, ymin = -10.0, ymax = 10.0, exclude = [-1, 1])"
   ]
  },
  {
   "cell_type": "code",
   "execution_count": 27,
   "metadata": {},
   "outputs": [
    {
     "data": {
      "text/html": [
       "<html><script type=\"math/tex; mode=display\">\\newcommand{\\Bold}[1]{\\mathbf{#1}}x_0 = -3.041562328266405, y(x_0) = -0.63092 \\phantom{\\verb!x!}\\verb|локальный|\\phantom{\\verb!x!}\\verb|минимум|</script></html>"
      ],
      "text/latex": [
       "\\begin{math}\n",
       "\\newcommand{\\Bold}[1]{\\mathbf{#1}}x_0 = -3.041562328266405, y(x_0) = -0.63092 \\phantom{\\verb!x!}\\verb|локальный|\\phantom{\\verb!x!}\\verb|минимум|\n",
       "\\end{math}"
      ],
      "text/plain": [
       "x_0 = -3.041562328266405, y(x_0) = -0.63092 ' локальный минимум'"
      ]
     },
     "metadata": {},
     "output_type": "display_data"
    },
    {
     "data": {
      "text/html": [
       "<html><script type=\"math/tex; mode=display\">\\newcommand{\\Bold}[1]{\\mathbf{#1}}x_1 = -2.2188472151361713, y(x_1) = 0.12576 \\phantom{\\verb!x!}\\verb|локальный|\\phantom{\\verb!x!}\\verb|максимум|</script></html>"
      ],
      "text/latex": [
       "\\begin{math}\n",
       "\\newcommand{\\Bold}[1]{\\mathbf{#1}}x_1 = -2.2188472151361713, y(x_1) = 0.12576 \\phantom{\\verb!x!}\\verb|локальный|\\phantom{\\verb!x!}\\verb|максимум|\n",
       "\\end{math}"
      ],
      "text/plain": [
       "x_1 = -2.2188472151361713, y(x_1) = 0.12576 ' локальный максимум'"
      ]
     },
     "metadata": {},
     "output_type": "display_data"
    },
    {
     "data": {
      "text/html": [
       "<html><script type=\"math/tex; mode=display\">\\newcommand{\\Bold}[1]{\\mathbf{#1}}x_2 = 0.0, y(x_2) = 0.00000 \\phantom{\\verb!x!}\\verb|локальный|\\phantom{\\verb!x!}\\verb|минимум|</script></html>"
      ],
      "text/latex": [
       "\\begin{math}\n",
       "\\newcommand{\\Bold}[1]{\\mathbf{#1}}x_2 = 0.0, y(x_2) = 0.00000 \\phantom{\\verb!x!}\\verb|локальный|\\phantom{\\verb!x!}\\verb|минимум|\n",
       "\\end{math}"
      ],
      "text/plain": [
       "x_2 = 0.0, y(x_2) = 0.00000 ' локальный минимум'"
      ]
     },
     "metadata": {},
     "output_type": "display_data"
    },
    {
     "data": {
      "text/html": [
       "<html><script type=\"math/tex; mode=display\">\\newcommand{\\Bold}[1]{\\mathbf{#1}}x_3 = 2.2188472151361713, y(x_3) = 0.12576 \\phantom{\\verb!x!}\\verb|локальный|\\phantom{\\verb!x!}\\verb|максимум|</script></html>"
      ],
      "text/latex": [
       "\\begin{math}\n",
       "\\newcommand{\\Bold}[1]{\\mathbf{#1}}x_3 = 2.2188472151361713, y(x_3) = 0.12576 \\phantom{\\verb!x!}\\verb|локальный|\\phantom{\\verb!x!}\\verb|максимум|\n",
       "\\end{math}"
      ],
      "text/plain": [
       "x_3 = 2.2188472151361713, y(x_3) = 0.12576 ' локальный максимум'"
      ]
     },
     "metadata": {},
     "output_type": "display_data"
    },
    {
     "data": {
      "text/html": [
       "<html><script type=\"math/tex; mode=display\">\\newcommand{\\Bold}[1]{\\mathbf{#1}}x_4 = 3.041562328266405, y(x_4) = -0.63092 \\phantom{\\verb!x!}\\verb|локальный|\\phantom{\\verb!x!}\\verb|минимум|</script></html>"
      ],
      "text/latex": [
       "\\begin{math}\n",
       "\\newcommand{\\Bold}[1]{\\mathbf{#1}}x_4 = 3.041562328266405, y(x_4) = -0.63092 \\phantom{\\verb!x!}\\verb|локальный|\\phantom{\\verb!x!}\\verb|минимум|\n",
       "\\end{math}"
      ],
      "text/plain": [
       "x_4 = 3.041562328266405, y(x_4) = -0.63092 ' локальный минимум'"
      ]
     },
     "metadata": {},
     "output_type": "display_data"
    }
   ],
   "source": [
    "i = 0\n",
    "for root in roots_extreme:\n",
    "    # Вторая производная не существует в этих точках\n",
    "    if (root == -1 or root == 1):\n",
    "        continue\n",
    "    if (y_dd(root) > 0):\n",
    "        show(LatexExpr(\"x_\" + str(i) + \" = \" + str(root) + \", y(x_\" + str(i) + \") = \" + str(y(root).n(digits = 5))), \" локальный минимум\")\n",
    "        i = i + 1\n",
    "    if (y_dd(root) < 0):\n",
    "        show(LatexExpr(\"x_\" + str(i) + \" = \" + str(root) + \", y(x_\" + str(i) + \") = \" + str(y(root).n(digits = 5))), \" локальный максимум\")\n",
    "        i = i + 1"
   ]
  },
  {
   "cell_type": "markdown",
   "metadata": {},
   "source": [
    "### Непрерывность. Наличие точек разрыва и их классификация."
   ]
  },
  {
   "cell_type": "code",
   "execution_count": 28,
   "metadata": {},
   "outputs": [
    {
     "data": {
      "text/html": [
       "<html><script type=\"math/tex; mode=display\">\\newcommand{\\Bold}[1]{\\mathbf{#1}}x_0 = -1.0 \\phantom{\\verb!x!}\\verb|разрыв|\\phantom{\\verb!x!}\\verb|второго|\\phantom{\\verb!x!}\\verb|рода|</script></html>"
      ],
      "text/latex": [
       "\\begin{math}\n",
       "\\newcommand{\\Bold}[1]{\\mathbf{#1}}x_0 = -1.0 \\phantom{\\verb!x!}\\verb|разрыв|\\phantom{\\verb!x!}\\verb|второго|\\phantom{\\verb!x!}\\verb|рода|\n",
       "\\end{math}"
      ],
      "text/plain": [
       "x_0 = -1.0 ' разрыв второго рода'"
      ]
     },
     "metadata": {},
     "output_type": "display_data"
    },
    {
     "data": {
      "text/html": [
       "<html><script type=\"math/tex; mode=display\">\\newcommand{\\Bold}[1]{\\mathbf{#1}}x_1 = 1.0 \\phantom{\\verb!x!}\\verb|разрыв|\\phantom{\\verb!x!}\\verb|второго|\\phantom{\\verb!x!}\\verb|рода|</script></html>"
      ],
      "text/latex": [
       "\\begin{math}\n",
       "\\newcommand{\\Bold}[1]{\\mathbf{#1}}x_1 = 1.0 \\phantom{\\verb!x!}\\verb|разрыв|\\phantom{\\verb!x!}\\verb|второго|\\phantom{\\verb!x!}\\verb|рода|\n",
       "\\end{math}"
      ],
      "text/plain": [
       "x_1 = 1.0 ' разрыв второго рода'"
      ]
     },
     "metadata": {},
     "output_type": "display_data"
    }
   ],
   "source": [
    "i = 0\n",
    "for root in roots_null:\n",
    "    lim_left = lim(y, x = root, dir = 'left')\n",
    "    lim_right = lim(y, x = root, dir = 'right')\n",
    "    if (lim_left == lim_right and abs(lim_left) != oo and abs(lim_right) != oo):\n",
    "        show(LatexExpr(\"x_\" + str(i) + \" = \" + str(root)), \" разрыв первого рода\")\n",
    "    else:\n",
    "        show(LatexExpr(\"x_\" + str(i) + \" = \" + str(root)), \" разрыв второго рода\")\n",
    "    i = i + 1"
   ]
  },
  {
   "cell_type": "markdown",
   "metadata": {},
   "source": [
    "### Асимптоты."
   ]
  },
  {
   "cell_type": "code",
   "execution_count": 29,
   "metadata": {},
   "outputs": [
    {
     "data": {
      "text/html": [
       "<html><script type=\"math/tex; mode=display\">\\newcommand{\\Bold}[1]{\\mathbf{#1}}\\lim_{x \\to +\\infty} y(x) = ind</script></html>"
      ],
      "text/latex": [
       "\\begin{math}\n",
       "\\newcommand{\\Bold}[1]{\\mathbf{#1}}\\lim_{x \\to +\\infty} y(x) = ind\n",
       "\\end{math}"
      ],
      "text/plain": [
       "\\lim_{x \\to +\\infty} y(x) = ind"
      ]
     },
     "metadata": {},
     "output_type": "display_data"
    }
   ],
   "source": [
    "lim_inf_right = lim(y, x = +oo)\n",
    "show(LatexExpr(r'\\lim_{x \\to +\\infty} y(x) = ') + str(lim_inf_right.simplify_full()))"
   ]
  },
  {
   "cell_type": "code",
   "execution_count": 30,
   "metadata": {},
   "outputs": [
    {
     "data": {
      "text/html": [
       "<html><script type=\"math/tex; mode=display\">\\newcommand{\\Bold}[1]{\\mathbf{#1}}\\lim_{x \\to -\\infty} y(x) = ind</script></html>"
      ],
      "text/latex": [
       "\\begin{math}\n",
       "\\newcommand{\\Bold}[1]{\\mathbf{#1}}\\lim_{x \\to -\\infty} y(x) = ind\n",
       "\\end{math}"
      ],
      "text/plain": [
       "\\lim_{x \\to -\\infty} y(x) = ind"
      ]
     },
     "metadata": {},
     "output_type": "display_data"
    }
   ],
   "source": [
    "lim_inf_left = lim(y, x = -oo)\n",
    "show(LatexExpr(r'\\lim_{x \\to -\\infty} y(x) = ') + str(lim_inf_left.simplify_full()))"
   ]
  },
  {
   "cell_type": "markdown",
   "metadata": {},
   "source": [
    "Имеем асимптоты только в точках разрыва."
   ]
  },
  {
   "cell_type": "code",
   "execution_count": 32,
   "metadata": {},
   "outputs": [
    {
     "data": {
      "image/png": "[encoded data removed]",
      "text/plain": [
       "Graphics object consisting of 6 graphics primitives"
      ]
     },
     "execution_count": 32,
     "metadata": {},
     "output_type": "execute_result"
    }
   ],
   "source": [
    "plot(y, xmin = -10.0, xmax = 10.0, ymin = -10.0, ymax = 10.0, detect_poles = \"show\")"
   ]
  }
 ],
 "metadata": {
  "kernelspec": {
   "display_name": "SageMath 9.2",
   "language": "sage",
   "name": "sagemath"
  },
  "language_info": {
   "codemirror_mode": {
    "name": "ipython",
    "version": 3
   },
   "file_extension": ".py",
   "mimetype": "text/x-python",
   "name": "python",
   "nbconvert_exporter": "python",
   "pygments_lexer": "ipython3",
   "version": "3.7.7"
  }
 },
 "nbformat": 4,
 "nbformat_minor": 4
}
